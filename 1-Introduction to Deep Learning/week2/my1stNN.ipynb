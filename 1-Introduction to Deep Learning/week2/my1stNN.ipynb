{
 "cells": [
  {
   "cell_type": "markdown",
   "metadata": {},
   "source": [
    "## Read Data"
   ]
  },
  {
   "cell_type": "code",
   "execution_count": 1,
   "metadata": {},
   "outputs": [
    {
     "name": "stderr",
     "output_type": "stream",
     "text": [
      "/Users/yang/anaconda3/envs/AML/lib/python3.6/site-packages/h5py/__init__.py:36: FutureWarning: Conversion of the second argument of issubdtype from `float` to `np.floating` is deprecated. In future, it will be treated as `np.float64 == np.dtype(float).type`.\n",
      "  from ._conv import register_converters as _register_converters\n",
      "Using TensorFlow backend.\n"
     ]
    },
    {
     "name": "stdout",
     "output_type": "stream",
     "text": [
      "(50000, 28, 28) (50000,)\n"
     ]
    },
    {
     "data": {
      "image/png": "[encoded data removed]",
      "text/plain": [
       "<matplotlib.figure.Figure at 0x110f7a278>"
      ]
     },
     "metadata": {},
     "output_type": "display_data"
    }
   ],
   "source": [
    "from preprocessed_mnist import load_dataset\n",
    "X_train_ori, y_train_ori, X_val_ori, y_val_ori, X_test_ori, y_test_ori = load_dataset()\n",
    "print(X_train_ori.shape, y_train_ori.shape)\n",
    "import matplotlib.pyplot as plt\n",
    "%matplotlib inline\n",
    "plt.imshow(X_train_ori[0], cmap=\"Greys\");"
   ]
  },
  {
   "cell_type": "code",
   "execution_count": 2,
   "metadata": {},
   "outputs": [],
   "source": [
    "import tensorflow as tf\n",
    "import numpy as np\n",
    "from sklearn.preprocessing import LabelBinarizer"
   ]
  },
  {
   "cell_type": "code",
   "execution_count": 3,
   "metadata": {},
   "outputs": [],
   "source": [
    "# Change X into flattern vector\n",
    "X_train = X_train_ori.reshape(X_train_ori.shape[0], -1).T\n",
    "X_val = X_val_ori.reshape(X_val_ori.shape[0], -1).T\n",
    "X_test = X_test_ori.reshape(X_test_ori.shape[0], -1).T\n",
    "\n",
    "# Normalize X\n",
    "X_train /= 255.\n",
    "X_val   /= 255.\n",
    "X_test  /= 255.\n",
    "\n",
    "# Use one hot encoding for Y\n",
    "label_binarizer = LabelBinarizer()\n",
    "label_binarizer.fit(range(max(y_train_ori)+1))\n",
    "y_train = label_binarizer.transform(y_train_ori).T\n",
    "y_val = label_binarizer.transform(y_val_ori).T\n",
    "y_test = label_binarizer.transform(y_test_ori).T"
   ]
  },
  {
   "cell_type": "code",
   "execution_count": 4,
   "metadata": {},
   "outputs": [
    {
     "name": "stdout",
     "output_type": "stream",
     "text": [
      "(784, 50000)\n",
      "(784, 10000)\n",
      "(784, 10000)\n",
      "(10, 50000)\n",
      "(10, 10000)\n",
      "(10, 10000)\n"
     ]
    }
   ],
   "source": [
    "# check the size of traning and target data\n",
    "print(X_train.shape)\n",
    "print(X_test.shape)\n",
    "print(X_val.shape)\n",
    "print(y_train.shape)\n",
    "print(y_val.shape)\n",
    "print(y_test.shape)"
   ]
  },
  {
   "cell_type": "code",
   "execution_count": 10,
   "metadata": {},
   "outputs": [],
   "source": [
    "# Create 3 layer neural network and initialize parameters\n",
    "def initialize_parameters():\n",
    "    \n",
    "    tf.set_random_seed(1)\n",
    "    W1 = tf.get_variable(\"W1\", [250,784], initializer = tf.contrib.layers.xavier_initializer(seed = 1))\n",
    "    b1 = tf.get_variable(\"b1\", [250,1], initializer = tf.zeros_initializer())\n",
    "    W2 = tf.get_variable(\"W2\", [125,250], initializer = tf.contrib.layers.xavier_initializer(seed = 1))\n",
    "    b2 = tf.get_variable(\"b2\", [125,1], initializer = tf.zeros_initializer())\n",
    "    W3 = tf.get_variable(\"W3\", [10,125], initializer = tf.contrib.layers.xavier_initializer(seed = 1))\n",
    "    b3 = tf.get_variable(\"b3\", [10,1], initializer = tf.zeros_initializer())    \n",
    "    \n",
    "    parameters = {\"W1\": W1,\n",
    "                  \"b1\": b1,\n",
    "                  \"W2\": W2,\n",
    "                  \"b2\": b2,\n",
    "                  \"W3\": W3,\n",
    "                  \"b3\": b3}\n",
    "    \n",
    "    return parameters\n"
   ]
  },
  {
   "cell_type": "code",
   "execution_count": 6,
   "metadata": {},
   "outputs": [],
   "source": [
    "# forward propagation function\n",
    "def forward_propagation(X, parameters):\n",
    "    \n",
    "    # create forward propagation for neural network\n",
    "    W1 = parameters['W1']\n",
    "    b1 = parameters['b1']\n",
    "    W2 = parameters['W2']\n",
    "    b2 = parameters['b2']\n",
    "    W3 = parameters['W3']\n",
    "    b3 = parameters['b3']\n",
    "    \n",
    "    # Z1 = W1*X + b1\n",
    "    Z1 = tf.add(tf.matmul(W1,X), b1)                       \n",
    "    # A1 = relu(Z1)\n",
    "    A1 = tf.nn.relu(Z1)                                    \n",
    "    # Z2 = W2*A1 + b2\n",
    "    Z2 = tf.add(tf.matmul(W2,A1),b2)                       \n",
    "    # A2 = relu(Z2)\n",
    "    A2 = tf.nn.relu(Z2)                                    \n",
    "    # Z3 = W3*A2 + b3\n",
    "    Z3 = tf.add(tf.matmul(W3,A2),b3)                       \n",
    "    \n",
    "    return Z3"
   ]
  },
  {
   "cell_type": "code",
   "execution_count": 7,
   "metadata": {},
   "outputs": [],
   "source": [
    "# Compute loss function\n",
    "def compute_loss(y_pred, y_target):\n",
    "\n",
    "    logits = tf.transpose(y_pred)\n",
    "    labels = tf.transpose(y_target)\n",
    "    loss = tf.reduce_mean(tf.nn.softmax_cross_entropy_with_logits(logits=logits, labels=labels))\n",
    "\n",
    "#     loss = - tf.reduce_mean(y_target * tf.log(y_pred) + (1-y_target) * tf.log(1-y_pred))\n",
    "    return loss"
   ]
  },
  {
   "cell_type": "code",
   "execution_count": 13,
   "metadata": {},
   "outputs": [
    {
     "name": "stdout",
     "output_type": "stream",
     "text": [
      "Cost at epoch 0: 1.288962\n",
      "Cost at epoch 10: 0.131877\n",
      "Cost at epoch 20: 0.060631\n",
      "Cost at epoch 30: 0.028991\n",
      "Cost at epoch 40: 0.014548\n",
      "Cost at epoch 50: 0.005226\n",
      "Cost at epoch 60: 0.003244\n",
      "Cost at epoch 70: 0.028541\n",
      "Cost at epoch 80: 0.000803\n",
      "Cost at epoch 90: 0.000396\n",
      "Cost at epoch 100: 0.000274\n",
      "Cost at epoch 110: 0.000179\n",
      "Cost at epoch 120: 0.000129\n",
      "Cost at epoch 130: 0.000088\n",
      "Cost at epoch 140: 0.000072\n",
      "Cost at epoch 150: 0.000048\n",
      "Cost at epoch 160: 0.000036\n",
      "Cost at epoch 170: 0.000027\n",
      "Cost at epoch 180: 0.000020\n",
      "Cost at epoch 190: 0.000015\n"
     ]
    },
    {
     "data": {
      "image/png": "[encoded data removed]",
      "text/plain": [
       "<matplotlib.figure.Figure at 0x11c962b00>"
      ]
     },
     "metadata": {},
     "output_type": "display_data"
    },
    {
     "name": "stdout",
     "output_type": "stream",
     "text": [
      "Accuracy: 0.9791\n"
     ]
    }
   ],
   "source": [
    "# Hyperparameters\n",
    "num_epochs = 200\n",
    "batch_size = 1000\n",
    "learning_rate = 0.01\n",
    "\n",
    "# Need to keep this to overwrite already created variables, like W1, A1\n",
    "from tensorflow.python.framework import ops\n",
    "ops.reset_default_graph()                         \n",
    "\n",
    "# check cost for every 10 epochs\n",
    "costs = []                                       \n",
    "\n",
    "# Set seed for tf initialization\n",
    "tf.set_random_seed(1)                \n",
    "\n",
    "# set seed to sampling of batch    \n",
    "seed = 3                          \n",
    "\n",
    "# size of input_X and output_Y\n",
    "(nx, m) = X_train.shape                          \n",
    "ny = y_train.shape[0]                            \n",
    "    \n",
    "# Create Placeholders of X, Y\n",
    "X = tf.placeholder(tf.float32, [nx, None], name = \"X\")\n",
    "Y = tf.placeholder(tf.float32, [ny, None], name = \"Y\")\n",
    "    \n",
    "# Initialize parameters\n",
    "parameters = initialize_parameters()\n",
    "    \n",
    "# Forward propagation\n",
    "Z3 = forward_propagation(X, parameters)\n",
    "    \n",
    "# Cost function\n",
    "cost = compute_loss(Z3, Y)\n",
    "    \n",
    "# Backpropagation and optimizer\n",
    "optimizer = tf.train.AdamOptimizer(learning_rate=learning_rate).minimize(cost)\n",
    "    \n",
    "# Initialize all the variables\n",
    "init = tf.global_variables_initializer()\n",
    "\n",
    "# start session\n",
    "with tf.Session() as sess:\n",
    "    \n",
    "    # initialization of coefficients\n",
    "    sess.run(init)\n",
    "        \n",
    "    # start training\n",
    "    for epoch in range(num_epochs):\n",
    "\n",
    "        epoch_cost = 0.                       \n",
    "            \n",
    "        # number of batches\n",
    "        num_batches = m // batch_size + 1\n",
    "            \n",
    "        # update seed in each epoch\n",
    "        seed = seed + 1\n",
    "        np.random.seed(seed)\n",
    "\n",
    "        for i in range(num_batches):\n",
    "            \n",
    "            # indices for random choice of each batch\n",
    "            ind = np.random.choice(X_train.shape[1], batch_size)         \n",
    "            batch_X = X_train[:, ind]\n",
    "            batch_Y = y_train[:, ind]\n",
    "\n",
    "            # compute the optimizer and cost\n",
    "            _ , batch_cost = sess.run([optimizer, cost], feed_dict={X: batch_X, Y: batch_Y})\n",
    "                \n",
    "            epoch_cost += batch_cost / num_batches\n",
    "\n",
    "        # Print cost every 10 epochs\n",
    "        if epoch % 10 == 0:\n",
    "            costs.append(epoch_cost)\n",
    "            print (\"Cost at epoch %i: %f\" % (epoch, epoch_cost))\n",
    "                \n",
    "    # plot the cost\n",
    "    plt.plot(np.squeeze(costs))\n",
    "    plt.ylabel('cost')\n",
    "    plt.xlabel('Number of iterations')\n",
    "    plt.show()\n",
    "\n",
    "    # Calculate the accuracy\n",
    "    correct_prediction = tf.equal(tf.argmax(Z3), tf.argmax(Y))\n",
    "    accuracy = tf.reduce_mean(tf.cast(correct_prediction, \"float\"))\n",
    "\n",
    "    print (\"Accuracy:\",  accuracy.eval({X: X_test, Y: y_test}))\n",
    "        "
   ]
  },
  {
   "cell_type": "code",
   "execution_count": null,
   "metadata": {},
   "outputs": [],
   "source": []
  },
  {
   "cell_type": "code",
   "execution_count": null,
   "metadata": {},
   "outputs": [],
   "source": []
  }
 ],
 "metadata": {
  "kernelspec": {
   "display_name": "Python 3",
   "language": "python",
   "name": "python3"
  },
  "language_info": {
   "codemirror_mode": {
    "name": "ipython",
    "version": 3
   },
   "file_extension": ".py",
   "mimetype": "text/x-python",
   "name": "python",
   "nbconvert_exporter": "python",
   "pygments_lexer": "ipython3",
   "version": "3.6.4"
  }
 },
 "nbformat": 4,
 "nbformat_minor": 2
}
