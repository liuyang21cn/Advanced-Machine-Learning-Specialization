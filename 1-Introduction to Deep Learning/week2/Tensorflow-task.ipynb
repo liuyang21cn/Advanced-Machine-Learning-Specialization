{
 "cells": [
  {
   "cell_type": "markdown",
   "metadata": {
    "slideshow": {
     "slide_type": "slide"
    }
   },
   "source": [
    "# Going deeper with Tensorflow\n",
    "\n",
    "In this video, we're going to study the tools you'll use to build deep learning models. Namely, [Tensorflow](https://www.tensorflow.org/).\n",
    "\n",
    "If you're running this notebook outside the course environment, you'll need to install tensorflow:\n",
    "* `pip install tensorflow` should install cpu-only TF on Linux & Mac OS\n",
    "* If you want GPU support from offset, see [TF install page](https://www.tensorflow.org/install/)"
   ]
  },
  {
   "cell_type": "code",
   "execution_count": 1,
   "metadata": {
    "collapsed": true
   },
   "outputs": [],
   "source": [
    "import sys\n",
    "sys.path.append(\"..\")\n",
    "import grading"
   ]
  },
  {
   "cell_type": "markdown",
   "metadata": {},
   "source": [
    "# Visualization"
   ]
  },
  {
   "cell_type": "markdown",
   "metadata": {},
   "source": [
    "Plase note that if you are running on the Coursera platform, you won't be able to access the tensorboard instance due to the network setup there. If you run the notebook locally, you should be able to access TensorBoard on http://127.0.0.1:7007/"
   ]
  },
  {
   "cell_type": "code",
   "execution_count": 2,
   "metadata": {},
   "outputs": [
    {
     "name": "stdout",
     "output_type": "stream",
     "text": [
      "/bin/sh: 1: killall: not found\r\n"
     ]
    }
   ],
   "source": [
    "! killall tensorboard\n",
    "import os\n",
    "os.system(\"tensorboard --logdir=/tmp/tboard --port=7007 &\");"
   ]
  },
  {
   "cell_type": "code",
   "execution_count": 3,
   "metadata": {
    "collapsed": true
   },
   "outputs": [],
   "source": [
    "import tensorflow as tf\n",
    "s = tf.InteractiveSession()"
   ]
  },
  {
   "cell_type": "markdown",
   "metadata": {},
   "source": [
    "# Warming up\n",
    "For starters, let's implement a python function that computes the sum of squares of numbers from 0 to N-1."
   ]
  },
  {
   "cell_type": "code",
   "execution_count": 4,
   "metadata": {
    "collapsed": true
   },
   "outputs": [],
   "source": [
    "import numpy as np\n",
    "def sum_sin(N):\n",
    "    return np.sum(np.arange(N)**2)"
   ]
  },
  {
   "cell_type": "code",
   "execution_count": 5,
   "metadata": {},
   "outputs": [
    {
     "name": "stdout",
     "output_type": "stream",
     "text": [
      "CPU times: user 264 ms, sys: 344 ms, total: 608 ms\n",
      "Wall time: 863 ms\n"
     ]
    },
    {
     "data": {
      "text/plain": [
       "662921401752298880"
      ]
     },
     "execution_count": 5,
     "metadata": {},
     "output_type": "execute_result"
    }
   ],
   "source": [
    "%%time\n",
    "sum_sin(10**8)"
   ]
  },
  {
   "cell_type": "markdown",
   "metadata": {},
   "source": [
    "# Tensoflow teaser\n",
    "\n",
    "Doing the very same thing"
   ]
  },
  {
   "cell_type": "code",
   "execution_count": 6,
   "metadata": {
    "collapsed": true
   },
   "outputs": [],
   "source": [
    "# An integer parameter\n",
    "N = tf.placeholder('int64', name=\"input_to_your_function\")\n",
    "\n",
    "# A recipe on how to produce the same result\n",
    "result = tf.reduce_sum(tf.range(N)**2)"
   ]
  },
  {
   "cell_type": "code",
   "execution_count": 7,
   "metadata": {},
   "outputs": [
    {
     "data": {
      "text/plain": [
       "<tf.Tensor 'Sum:0' shape=() dtype=int64>"
      ]
     },
     "execution_count": 7,
     "metadata": {},
     "output_type": "execute_result"
    }
   ],
   "source": [
    "result"
   ]
  },
  {
   "cell_type": "code",
   "execution_count": 8,
   "metadata": {},
   "outputs": [
    {
     "name": "stdout",
     "output_type": "stream",
     "text": [
      "CPU times: user 468 ms, sys: 88 ms, total: 556 ms\n",
      "Wall time: 416 ms\n"
     ]
    },
    {
     "data": {
      "text/plain": [
       "662921401752298880"
      ]
     },
     "execution_count": 8,
     "metadata": {},
     "output_type": "execute_result"
    }
   ],
   "source": [
    "%%time\n",
    "result.eval({N: 10**8})"
   ]
  },
  {
   "cell_type": "code",
   "execution_count": 9,
   "metadata": {
    "collapsed": true
   },
   "outputs": [],
   "source": [
    "writer = tf.summary.FileWriter(\"/tmp/tboard\", graph=s.graph)"
   ]
  },
  {
   "cell_type": "markdown",
   "metadata": {},
   "source": [
    "# How does it work?\n",
    "1. Define placeholders where you'll send inputs\n",
    "2. Make symbolic graph: a recipe for mathematical transformation of those placeholders\n",
    "3. Compute outputs of your graph with particular values for each placeholder\n",
    "  * `output.eval({placeholder:value})`\n",
    "  * `s.run(output, {placeholder:value})`\n",
    "\n",
    "So far there are two main entities: \"placeholder\" and \"transformation\"\n",
    "* Both can be numbers, vectors, matrices, tensors, etc.\n",
    "* Both can be int32/64, floats, booleans (uint8) of various size.\n",
    "\n",
    "* You can define new transformations as an arbitrary operation on placeholders and other transformations\n",
    " * `tf.reduce_sum(tf.arange(N)**2)` are 3 sequential transformations of placeholder `N`\n",
    " * There's a tensorflow symbolic version for every numpy function\n",
    "   * `a+b, a/b, a**b, ...` behave just like in numpy\n",
    "   * `np.mean` -> `tf.reduce_mean`\n",
    "   * `np.arange` -> `tf.range`\n",
    "   * `np.cumsum` -> `tf.cumsum`\n",
    "   * If if you can't find the op you need, see the [docs](https://www.tensorflow.org/api_docs/python).\n",
    "   \n",
    "`tf.contrib` has many high-level features, may be worth a look."
   ]
  },
  {
   "cell_type": "code",
   "execution_count": 10,
   "metadata": {
    "collapsed": true
   },
   "outputs": [],
   "source": [
    "with tf.name_scope(\"Placeholders_examples\"):\n",
    "    # Default placeholder that can be arbitrary float32\n",
    "    # scalar, vertor, matrix, etc.\n",
    "    arbitrary_input = tf.placeholder('float32')\n",
    "\n",
    "    # Input vector of arbitrary length\n",
    "    input_vector = tf.placeholder('float32', shape=(None,))\n",
    "\n",
    "    # Input vector that _must_ have 10 elements and integer type\n",
    "    fixed_vector = tf.placeholder('int32', shape=(10,))\n",
    "\n",
    "    # Matrix of arbitrary n_rows and 15 columns\n",
    "    # (e.g. a minibatch your data table)\n",
    "    input_matrix = tf.placeholder('float32', shape=(None, 15))\n",
    "    \n",
    "    # You can generally use None whenever you don't need a specific shape\n",
    "    input1 = tf.placeholder('float64', shape=(None, 100, None))\n",
    "    input2 = tf.placeholder('int32', shape=(None, None, 3, 224, 224))\n",
    "\n",
    "    # elementwise multiplication\n",
    "    double_the_vector = input_vector*2\n",
    "\n",
    "    # elementwise cosine\n",
    "    elementwise_cosine = tf.cos(input_vector)\n",
    "\n",
    "    # difference between squared vector and vector itself plus one\n",
    "    vector_squares = input_vector**2 - input_vector + 1"
   ]
  },
  {
   "cell_type": "code",
   "execution_count": 11,
   "metadata": {
    "collapsed": true
   },
   "outputs": [],
   "source": [
    "my_vector =  tf.placeholder('float32', shape=(None,), name=\"VECTOR_1\")\n",
    "my_vector2 = tf.placeholder('float32', shape=(None,))\n",
    "my_transformation = my_vector * my_vector2 / (tf.sin(my_vector) + 1)"
   ]
  },
  {
   "cell_type": "code",
   "execution_count": 12,
   "metadata": {},
   "outputs": [
    {
     "name": "stdout",
     "output_type": "stream",
     "text": [
      "Tensor(\"truediv:0\", shape=(?,), dtype=float32)\n"
     ]
    }
   ],
   "source": [
    "print(my_transformation)"
   ]
  },
  {
   "cell_type": "code",
   "execution_count": 13,
   "metadata": {},
   "outputs": [
    {
     "name": "stdout",
     "output_type": "stream",
     "text": [
      "[ 0.  1.  2.  3.  4.]\n"
     ]
    },
    {
     "data": {
      "text/plain": [
       "array([ 0.        ,  1.62913239,  2.09501147,  2.62899613,  0.        ], dtype=float32)"
      ]
     },
     "execution_count": 13,
     "metadata": {},
     "output_type": "execute_result"
    }
   ],
   "source": [
    "dummy = np.arange(5).astype('float32')\n",
    "print(dummy)\n",
    "my_transformation.eval({my_vector:dummy, my_vector2:dummy[::-1]})"
   ]
  },
  {
   "cell_type": "code",
   "execution_count": 14,
   "metadata": {
    "collapsed": true
   },
   "outputs": [],
   "source": [
    "writer.add_graph(my_transformation.graph)\n",
    "writer.flush()"
   ]
  },
  {
   "cell_type": "markdown",
   "metadata": {},
   "source": [
    "TensorBoard allows writing scalars, images, audio, histogram. You can read more on tensorboard usage [here](https://www.tensorflow.org/get_started/graph_viz)."
   ]
  },
  {
   "cell_type": "markdown",
   "metadata": {},
   "source": [
    "# Summary\n",
    "* Tensorflow is based on computation graphs\n",
    "* The graphs consist of placehlders and transformations"
   ]
  },
  {
   "cell_type": "markdown",
   "metadata": {},
   "source": [
    "# Mean squared error\n",
    "\n",
    "Your assignment is to implement mean squared error in tensorflow."
   ]
  },
  {
   "cell_type": "code",
   "execution_count": 15,
   "metadata": {
    "collapsed": true
   },
   "outputs": [],
   "source": [
    "with tf.name_scope(\"MSE\"):\n",
    "    y_true = tf.placeholder(\"float32\", shape=(None,), name=\"y_true\")\n",
    "    y_predicted = tf.placeholder(\"float32\", shape=(None,), name=\"y_predicted\")\n",
    "    # Your code goes here\n",
    "    # You want to use tf.reduce_mean\n",
    "    # mse = tf.<...>\n",
    "    mse = tf.reduce_mean((y_true - y_predicted)**2)\n",
    "def compute_mse(vector1, vector2):\n",
    "    return mse.eval({y_true: vector1, y_predicted: vector2})"
   ]
  },
  {
   "cell_type": "code",
   "execution_count": 16,
   "metadata": {
    "collapsed": true
   },
   "outputs": [],
   "source": [
    "writer.add_graph(mse.graph)\n",
    "writer.flush()"
   ]
  },
  {
   "cell_type": "markdown",
   "metadata": {},
   "source": [
    "Tests and result submission. Please use the credentials obtained from the Coursera assignment page."
   ]
  },
  {
   "cell_type": "code",
   "execution_count": 17,
   "metadata": {
    "collapsed": true
   },
   "outputs": [],
   "source": [
    "import submit"
   ]
  },
  {
   "cell_type": "code",
   "execution_count": 18,
   "metadata": {},
   "outputs": [
    {
     "name": "stdout",
     "output_type": "stream",
     "text": [
      "Submitted to Coursera platform. See results on assignment page!\n"
     ]
    }
   ],
   "source": [
    "submit.submit_mse(compute_mse, \"liuyang21cn@yahoo.com\", \"cGJwr5xiZ1BdgMRy\")"
   ]
  },
  {
   "cell_type": "markdown",
   "metadata": {},
   "source": [
    "# Variables\n",
    "\n",
    "The inputs and transformations have no value outside function call. This isn't too comfortable if you want your model to have parameters (e.g. network weights) that are always present, but can change their value over time.\n",
    "\n",
    "Tensorflow solves this with `tf.Variable` objects.\n",
    "* You can assign variable a value at any time in your graph\n",
    "* Unlike placeholders, there's no need to explicitly pass values to variables when `s.run(...)`-ing\n",
    "* You can use variables the same way you use transformations \n",
    " "
   ]
  },
  {
   "cell_type": "code",
   "execution_count": 19,
   "metadata": {
    "collapsed": true
   },
   "outputs": [],
   "source": [
    "# Creating a shared variable\n",
    "shared_vector_1 = tf.Variable(initial_value=np.ones(5),\n",
    "                              name=\"example_variable\")"
   ]
  },
  {
   "cell_type": "code",
   "execution_count": 20,
   "metadata": {},
   "outputs": [
    {
     "name": "stdout",
     "output_type": "stream",
     "text": [
      "Initial value [ 1.  1.  1.  1.  1.]\n"
     ]
    }
   ],
   "source": [
    "# Initialize variable(s) with initial values\n",
    "s.run(tf.global_variables_initializer())\n",
    "\n",
    "# Evaluating shared variable (outside symbolicd graph)\n",
    "print(\"Initial value\", s.run(shared_vector_1))\n",
    "\n",
    "# Within symbolic graph you use them just\n",
    "# as any other inout or transformation, not \"get value\" needed"
   ]
  },
  {
   "cell_type": "code",
   "execution_count": 21,
   "metadata": {},
   "outputs": [
    {
     "name": "stdout",
     "output_type": "stream",
     "text": [
      "New value [ 0.  1.  2.  3.  4.]\n"
     ]
    }
   ],
   "source": [
    "# Setting a new value\n",
    "s.run(shared_vector_1.assign(np.arange(5)))\n",
    "\n",
    "# Getting that new value\n",
    "print(\"New value\", s.run(shared_vector_1))"
   ]
  },
  {
   "cell_type": "markdown",
   "metadata": {},
   "source": [
    "# tf.gradients - why graphs matter\n",
    "* Tensorflow can compute derivatives and gradients automatically using the computation graph\n",
    "* True to its name it can manage matrix derivatives\n",
    "* Gradients are computed as a product of elementary derivatives via the chain rule:\n",
    "\n",
    "$$ {\\partial f(g(x)) \\over \\partial x} = {\\partial f(g(x)) \\over \\partial g(x)}\\cdot {\\partial g(x) \\over \\partial x} $$\n",
    "\n",
    "It can get you the derivative of any graph as long as it knows how to differentiate elementary operations"
   ]
  },
  {
   "cell_type": "code",
   "execution_count": 22,
   "metadata": {
    "collapsed": true
   },
   "outputs": [],
   "source": [
    "my_scalar = tf.placeholder('float32')\n",
    "\n",
    "scalar_squared = my_scalar**2\n",
    "\n",
    "# A derivative of scalar_squared by my_scalar\n",
    "derivative = tf.gradients(scalar_squared, [my_scalar, ])"
   ]
  },
  {
   "cell_type": "code",
   "execution_count": 23,
   "metadata": {},
   "outputs": [
    {
     "data": {
      "text/plain": [
       "[<tf.Tensor 'gradients/pow_1_grad/Reshape:0' shape=<unknown> dtype=float32>]"
      ]
     },
     "execution_count": 23,
     "metadata": {},
     "output_type": "execute_result"
    }
   ],
   "source": [
    "derivative"
   ]
  },
  {
   "cell_type": "code",
   "execution_count": 24,
   "metadata": {},
   "outputs": [
    {
     "data": {
      "image/png": "[encoded data removed]",
      "text/plain": [
       "<matplotlib.figure.Figure at 0x7f1f95fbe668>"
      ]
     },
     "metadata": {},
     "output_type": "display_data"
    }
   ],
   "source": [
    "import matplotlib.pyplot as plt\n",
    "%matplotlib inline\n",
    "\n",
    "x = np.linspace(-3, 3)\n",
    "x_squared, x_squared_der = s.run([scalar_squared, derivative[0]],\n",
    "                                 {my_scalar:x})\n",
    "\n",
    "plt.plot(x, x_squared,label=\"$x^2$\")\n",
    "plt.plot(x, x_squared_der, label=r\"$\\frac{dx^2}{dx}$\")\n",
    "plt.legend();"
   ]
  },
  {
   "cell_type": "markdown",
   "metadata": {},
   "source": [
    "# Why that rocks"
   ]
  },
  {
   "cell_type": "code",
   "execution_count": 25,
   "metadata": {
    "collapsed": true
   },
   "outputs": [],
   "source": [
    "my_vector = tf.placeholder('float32', [None])\n",
    "# Compute the gradient of the next weird function over my_scalar and my_vector\n",
    "# Warning! Trying to understand the meaning of that function may result in permanent brain damage\n",
    "weird_psychotic_function = tf.reduce_mean(\n",
    "    (my_vector+my_scalar)**(1+tf.nn.moments(my_vector,[0])[1]) + \n",
    "    1./ tf.atan(my_scalar))/(my_scalar**2 + 1) + 0.01*tf.sin(\n",
    "    2*my_scalar**1.5)*(tf.reduce_sum(my_vector)* my_scalar**2\n",
    "                      )*tf.exp((my_scalar-4)**2)/(\n",
    "    1+tf.exp((my_scalar-4)**2))*(1.-(tf.exp(-(my_scalar-4)**2)\n",
    "                                    )/(1+tf.exp(-(my_scalar-4)**2)))**2\n",
    "\n",
    "der_by_scalar = tf.gradients(weird_psychotic_function, my_scalar)\n",
    "der_by_vector = tf.gradients(weird_psychotic_function, my_vector)"
   ]
  },
  {
   "cell_type": "code",
   "execution_count": 26,
   "metadata": {},
   "outputs": [
    {
     "data": {
      "image/png": "[encoded data removed]",
      "text/plain": [
       "<matplotlib.figure.Figure at 0x7f1f95a0dc18>"
      ]
     },
     "metadata": {},
     "output_type": "display_data"
    }
   ],
   "source": [
    "# Plotting the derivative\n",
    "scalar_space = np.linspace(1, 7, 100)\n",
    "\n",
    "y = [s.run(weird_psychotic_function, {my_scalar:x, my_vector:[1, 2, 3]})\n",
    "     for x in scalar_space]\n",
    "\n",
    "plt.plot(scalar_space, y, label='function')\n",
    "\n",
    "y_der_by_scalar = [s.run(der_by_scalar,\n",
    "                         {my_scalar:x, my_vector:[1, 2, 3]})\n",
    "                   for x in scalar_space]\n",
    "\n",
    "plt.plot(scalar_space, y_der_by_scalar, label='derivative')\n",
    "plt.grid()\n",
    "plt.legend();"
   ]
  },
  {
   "cell_type": "markdown",
   "metadata": {},
   "source": [
    "# Almost done - optimizers\n",
    "\n",
    "While you can perform gradient descent by hand with automatic grads from above, tensorflow also has some optimization methods implemented for you. Recall momentum & rmsprop?"
   ]
  },
  {
   "cell_type": "code",
   "execution_count": 27,
   "metadata": {
    "collapsed": true
   },
   "outputs": [],
   "source": [
    "y_guess = tf.Variable(np.zeros(2, dtype='float32'))\n",
    "y_true = tf.range(1, 3, dtype='float32')\n",
    "loss = tf.reduce_mean((y_guess - y_true + tf.random_normal([2]))**2) \n",
    "#loss = tf.reduce_mean((y_guess - y_true)**2) \n",
    "optimizer = tf.train.MomentumOptimizer(0.01, 0.5).minimize(\n",
    "    loss, var_list=y_guess)"
   ]
  },
  {
   "cell_type": "code",
   "execution_count": 28,
   "metadata": {},
   "outputs": [
    {
     "data": {
      "image/png": "[encoded data removed]",
      "text/plain": [
       "<matplotlib.figure.Figure at 0x7f1f94be7898>"
      ]
     },
     "metadata": {},
     "output_type": "display_data"
    }
   ],
   "source": [
    "from matplotlib import animation, rc\n",
    "import matplotlib_utils\n",
    "from IPython.display import HTML, display_html\n",
    "\n",
    "fig, ax = plt.subplots()\n",
    "y_true_value = s.run(y_true)\n",
    "level_x = np.arange(0, 2, 0.02)\n",
    "level_y = np.arange(0, 3, 0.02)\n",
    "X, Y = np.meshgrid(level_x, level_y)\n",
    "Z = (X - y_true_value[0])**2 + (Y - y_true_value[1])**2\n",
    "ax.set_xlim(-0.02, 2)\n",
    "ax.set_ylim(-0.02, 3)\n",
    "s.run(tf.global_variables_initializer())\n",
    "ax.scatter(*s.run(y_true), c='red')\n",
    "contour = ax.contour(X, Y, Z, 10)\n",
    "ax.clabel(contour, inline=1, fontsize=10)\n",
    "line, = ax.plot([], [], lw=2)\n",
    "\n",
    "def init():\n",
    "    line.set_data([], [])\n",
    "    return (line,)\n",
    "\n",
    "guesses = [s.run(y_guess)]\n",
    "\n",
    "def animate(i):\n",
    "    s.run(optimizer)\n",
    "    guesses.append(s.run(y_guess))\n",
    "    line.set_data(*zip(*guesses))\n",
    "    return (line,)\n",
    "\n",
    "anim = animation.FuncAnimation(fig, animate, init_func=init,\n",
    "                               frames=400, interval=20, blit=True)"
   ]
  },
  {
   "cell_type": "code",
   "execution_count": 29,
   "metadata": {},
   "outputs": [
    {
     "data": {
      "text/html": [
       "<img src=\"data:image/jpeg;base64,/9j/4AAQSkZJRgABAQAAAQABAAD/2wBDAAIBAQEBAQIBAQECAgICAgQDAgICAgUEBAMEBgUGBgYFBgYGBwkIBgcJBwYGCAsICQoKCgoKBggLDAsKDAkKCgr/2wBDAQICAgICAgUDAwUKBwYHCgoKCgoKCgoKCgoKCgoKCgoKCgoKCgoKCgoKCgoKCgoKCgoKCgoKCgoKCgoKCgoKCgr/wAARCAEgAbADASIAAhEBAxEB/8QAHwAAAQUBAQEBAQEAAAAAAAAAAAECAwQFBgcICQoL/8QAtRAAAgEDAwIEAwUFBAQAAAF9AQIDAAQRBRIhMUEGE1FhByJxFDKBkaEII0KxwRVS0fAkM2JyggkKFhcYGRolJicoKSo0NTY3ODk6Q0RFRkdISUpTVFVWV1hZWmNkZWZnaGlqc3R1dnd4eXqDhIWGh4iJipKTlJWWl5iZmqKjpKWmp6ipqrKztLW2t7i5usLDxMXGx8jJytLT1NXW19jZ2uHi4%2BTl5ufo6erx8vP09fb3%2BPn6/8QAHwEAAwEBAQEBAQEBAQAAAAAAAAECAwQFBgcICQoL/8QAtREAAgECBAQDBAcFBAQAAQJ3AAECAxEEBSExBhJBUQdhcRMiMoEIFEKRobHBCSMzUvAVYnLRChYkNOEl8RcYGRomJygpKjU2Nzg5OkNERUZHSElKU1RVVldYWVpjZGVmZ2hpanN0dXZ3eHl6goOEhYaHiImKkpOUlZaXmJmaoqOkpaanqKmqsrO0tba3uLm6wsPExcbHyMnK0tPU1dbX2Nna4uPk5ebn6Onq8vP09fb3%2BPn6/9oADAMBAAIRAxEAPwD9/KKKKACiiigAooooAKKKKACiiigAooooAKKKKACiiigAooooAKKKKACiiigAooooAKKKKACiiigAooooAKKKKACiiigAooooAKKKKACiiigAooooAKKKKACiiigAooooAKKKKACiiigAooooAKKKKACiiigAorj/AAR%2B0J8A/iZ431n4Z/Dj44eD/EHiTw5JJH4h8P6J4ltbu%2B0t0kMTrcQRSNJAVkBQh1GGG088VZtfjb8Gb74p3PwLsvi54Ym8b2dgL288HRa/btqsFqQpE72gfzljIdPnK7fmXnkUAdPRRRQAUUUUAFFFFABRRRQAUUUUAFFFFABRRRQAUUUUAFFFFABRRRQAUUUUAFFFFABRRRQAUUUUAFFFFABRRRQAUUUUAFFFFABRRRQAUUUUAFFFFABRRRQAUUUUAFFFFABRRRQAUUUUAfIz%2BIrvxH/wUT0j40aVp3xZ1nw/4Z8I6/pWr2XiP4WX%2Bn6b4Ukmn0yMNpUo06CbVWu5bUtJiS%2BRUQyxvbxjbLy/g74f/EGL9qTw98N5fhR4oh17Qf2nfEnj3WvGcvhq6TSpvDt5oWp29tImpmP7NPIVvbDT/sqyGZPszMYxHCr19w0UAeIftr%2BO/wBp34WeFtF8bfAPx94D022ufF/hzw/qFj4v8B3uqyO%2Bq67Y6X9ojlttVsxGIkvDJ5ZR95jA3oDkWf8AhB/%2BChf/AEdB8Gf/AAw%2Brf8AzUUft4f8kQ0P/ss3w4/9TXRK9moA8Z/4Qf8A4KF/9HQfBn/ww%2Brf/NRVbWdA/bz8OaRdeIPEP7W3wQsLCyt3nvb29%2BB2qRQ28SAs0ju3ikKigAkkkAAZrtvhz8ddL%2BIPxC8S/DO58F65oGp%2BHTHIkWuxQx/2nZvJNEt5biOVy0JlglTLBW4UlQHUnwnxj4Y%2BMnh7SfE/w8%2BNujX%2BsaZ8RPFEvhqz8ZS%2BM3nuFS8eQ2EkOlRwrDawQsyQuY2EpCNOwKqSOulhHOfLN2emnVp9tbOyu/6dsZ1Uo3Svv/X3lHxB8b/27NYt/Cy/AD9pj4A%2BOLnxXqV3bWWPhRqtnboLWBp58y/8JHKfNCqAsRUFtwJKoC47H4Paz%2B3j8Zfh1p3xD0P9pT4RWkd4JYrqwvPgJqyz2V1DK8FxbSj/AISjiSKaOSNscbkOOKzfC3wc%2BK/xk%2BI914s8Z%2BCNU8Aatplhpl2de32sscviW1M0TXVtHHI3m272k8sT7wm%2BO5ZPvLlPb/gn8K5vhL4RuNG1LxGNX1PUtYvNV1nU0sVtUuLu5lMkjJCpYRoMgBdzHC5LMSSdcTTwtKlyxfvffvfqtNrbWflrpNKVWUrvb%2BvmeEeBx/wWR8RfFHWNF8XeKPgJ4e8H2FxPDpniCf4dapc32qbWxHMlnF4gKRRuAW/eThxkZTOcegf8IP8A8FC/%2BjoPgz/4YfVv/mor2aiuKclN3UUvS/6tm0U0tXc8Z/4Qf/goX/0dB8Gf/DD6t/8ANRR/wg//AAUL/wCjoPgz/wCGH1b/AOaivZqw/iF8T/ht8JPDsni/4qfEDRPDWlQ/63Ute1SGzgXjODJKyrn8amMZSdoq7K3PNf8AhB/%2BChf/AEdB8Gf/AAw%2Brf8AzUUf8IP/AMFC/wDo6D4M/wDhh9W/%2BaiuQn/4Kh/BjxncPpn7Lfwu%2BInxlulcx/afAPhOX%2BzEkzgB9SvDBaBf9pZH78HFNHiv/gqv8XOfD3wo%2BFXwe0%2BX5Wl8V65ceJtVjH98QWQgtVb2M7jPr1rs/s/ER/i2h/iaT%2B7WX/kpfJLrodj/AMIP/wAFC/8Ao6D4M/8Ahh9W/wDmorK8XH9tXwBpZ1vx5%2B2j8BNEsl%2B9eav8F9Stoh/wOTxUB%2BtYn/DB3xr%2BIH779or/AIKJfFfXc8PpvgZ7TwnYsvdStjGbgj63BODyTWt4R/4JZ/sB%2BE9UGv3H7NOh%2BItT6vqnjiWfX7h267i%2BoyTHOeeMY7Yo9lgYfHVcv8Mf1k1%2BQWgup4x4q/4KMP4T1I6Kf%2BCo37O2tXwyBZeD/gRrmuzE%2BgTTvEs5J7YxWb/w3d%2B3rr//ACSnwjrXi1H/AOPe8tP2O9a022l9CJdT8W2w2%2B/P0r7m8K%2BCvBvgTTRovgjwlpmjWa/dtNKsI7eIf8BjUD9K06Pa4CPw0pP1lb8Ix/ULw7HwPH8av%2BDgjxA4bwj%2BzN8I7OBz8k3jHRfsJx6lLTxNeMv0IzXffCy1/wCC7ev%2BI7T/AIW94p/ZT8N6I%2B77ZLo/hPxHqd9F8jbdsTalBE3z7QcyjAJPJAB%2BuqKieIpSjaNKK/8AAm/xl%2BgnJdjxn/hB/wDgoX/0dB8Gf/DD6t/81FH/AAg//BQv/o6D4M/%2BGH1b/wCaivZqK5STxn/hB/8AgoX/ANHQfBn/AMMPq3/zUUf8IP8A8FC/%2BjoPgz/4YfVv/mor2aigDxn/AIQf/goX/wBHQfBn/wAMPq3/AM1FH/CD/wDBQv8A6Og%2BDP8A4YfVv/mor2aigDxn/hB/%2BChf/R0HwZ/8MPq3/wA1FH/CD/8ABQvt%2B1B8Gf8Aww%2Brf/NRXs1FAHxJ4k1P/g4i8P7pdK0j9kfX0H3E0%2Bw8RW8jD3E96qg/8CNYI/aJ/wCC63hg%2Bd8Sv2XvBot1/wBZP4J8CQ6wf%2BAxyeMLaRv%2B%2BRX3zRXZHE0bWlRi/wDwJflJ/kVzLsfK/wCz98Sv%2BChPx%2B0zUr9/GnhvwRNpk8cU1j8Qf2YtX06WYspO6EjxY6TKMYLIxAJA71pfEvxF/wAFBvh74t8EeC7f9oL4M6he%2BNvEj6Xbr/wpTVYRaxRWNzeTXJ/4qZt4VLbbs%2BXLSKNwr6Wrzbx/%2BzPoHjv4y6D8dU%2BI/jDSdb8O288NhbafrKyaeVmiaKQtZ3EcsIYqeXRVf5R83XMU5Yd13Jq0bOy1lrZ27PfW/QFy3PBf2g/jh/wUO%2BCWpXmmaH8V/hH4kfQPDMniXxhJD8GdStk0nR42kDT5fxOTNKfJmKQqAWELfMOM60Hxz/aoufinb/CGL9rP4VnUrm7SyS7/AOGbde%2BwrfvaC8Wxa6/4SXyluTbETeUWB2%2B4xXb/ABj/AGSvHXxJ8U31xpHxXtLTR/Fvh6w0bx8l1ope9u7e1mkk3WsiSpHCZlkeGRWjZQrFkw2c8PqP7PH7SK6v4g8LaD4b06z0/TfFeu%2BL9B8S/wBqKf7Sv5bcppVsIBmSLySyrK78MLddmRIQnXTo4GpSScrO3e333XR9F038qSg0dT4Q179rv4gavqvh/wACftzfs%2Ba1qGhXAg1ux0r4O6hcTafISQEnRPFZaIkq2AwGcH0rf/4Qf/goX/0dB8Gf/DD6t/8ANRXF/sZeCtWfxvoXiLRPBHiDw54Z8GfCDTvCaQeJdBm0271HUzMJrl3imVXkEIiTE2NjyXc5RnBLH0f4l/ttfsqfBj4q2/wW%2BMHxs0fwr4gu7OO5s4vEbPZW1wjlgoS7mVbdnypygk3jIyBuGeethJKu6dFOVlfRXfntfyfW1yXHWyMz/hB/%2BChf/R0HwZ/8MPq3/wA1FH/CD/8ABQv/AKOg%2BDP/AIYfVv8A5qK9f0vVdM1zTodX0XUoLy0uYxJb3VrMskcqHoyspIYH1FT1x7EnjP8Awg//AAUL/wCjoPgz/wCGH1b/AOaivP8AwGP%2BCyGo/FLVfB/xL8UfATSfDkFvLNo3i/R/h1ql9HeYlVUhltpPEEMsEpRi5wHjGxhvPy5%2BpqKuM1FNOKd/XTzWv53Jaba1Pmf48eIv%2BCh/wV%2BHFx41sPjv8F9d1F7q3sdG0I/BrV7RtRvriVYbeBZB4jl2lpHUE7DhdzHhTV/4ieI/2wPhBo9pr3xY/ba%2BAnh2zvb2Ozgu9W%2BCmqQwtcPnam9/FIAzg8nA47V6B8VvgFqvxB%2BJ3hf4raX8TdStJfCt2bq28M30Edzo93N9nuIVmki2rKkyi5YrIkgA2qSjEDHC/tNQ/EnxB4m8NL4X%2BFfixvF2g3kEnhzWNKeCbQLk3Pl29/HeCQsUiSCSfJliRyozCxc7R10aVCqoQv3bezXZa6WVt9d3poZTnUhzO3a39I2bTwl/wUAv7WK/sP2qvgrPBPGskM0PwK1VkkQjIZSPFOCCDkEVJ/wg/wDwUL/6Og%2BDP/hh9W/%2BaivNdS%2BMuueHtf0z4uRfEy50Hw1a%2BK9StLHwjZ20MenQeGNKW4TULuaLZv377d3VwRtCRqnDkN7F8G/j74n%2BIXjWbwN47%2BFzeFr2Xw3a6/pVrLq4uZ3sppHj23MYjX7NOrpgx5cfNw5KsqzVwVWnHmWq/L/O11e2g4V4SdjjNS8Y/tm/CX40/Crw18Ufi38MPEvh/wAeeNbvQdTtNA%2BF2o6ReW4j8P6vqcc0VxNrl2gPm6dGjK0JysjYKkA19A14z%2B1B/wAlv/Zx/wCyzX3/AKhXiivZq4zYKKKKACiiigAooooAKKKKACiiigDxn9vD/kiGh/8AZZvhx/6muiV0/gH9pT4cfFD4t%2BIvhB4Dg1jUbnwoGj17Wo9HlXS7a8V1VrEXTAJJcru3MibtoByQRiuY/bw/5Ihof/ZZvhx/6muiV7KiJGCI0CgkkgDHJ5Jq4umovmV301tb/P00Jak2rM8u%2BLvwe%2BKHi/41eDviZ8MfGOkeHP7Ds72013Ubqwe8ub%2BynMTGzSHckajfEsgmdm2OgxGwZs9XafB34fJ4nsPHus%2BHrbV/EemWrW9l4i1W2jlvIUZmLBH2gR53EHYFyMA8AV09FW69VxUb2sraaaeb3e//AABKnFNvuFVtY1nSPD2lXOva/qttY2NnA015e3k6xRQRqMs7uxAVQASSTgAVT8bjxq3hHUV%2BHEulprptWGlPrUUj2izY%2BUyrGyuyDuFZSemR1rxI634q/ae/ZI8b/C/4i32k6V430d7vw94oxGYLAalAUeGULIzMltcxtbTKCzER3O3cWXNOlR9ouZvS6T7q/W3b9TRK50PxC/a50a2t/C6/s/aJp3xJufFUeoXGm/2P4khjtpYLKBZpglwFkR52EkYjh%2BXduLFkVGYeLeI/2k/G2seIvHnx48DfE3XI38H2eka/o3gW/mt4dP1fwsSseoRLGU3C/W5ttShLl2MU0duufLlUHV8I/Br4i/Gf40%2BIfGll4M1/4Z3UA0vV5dQ1PTY2iTxVbyPb3Eluqybby2ubGOGOZl2hl2bX3l9nr/gL9kj4Z6b4G0zw78X/AA5oHjjU7DXb3WhqeqeG4hFDfXVzJcubaGQym3iV5SI497lAifMSoNelfA4RWau9L7N66vvHbTRp63NPcid/418PXXjjwNqfhfTfFeqaDNqumy28GtaQUjvLBpEKrPF5qMqyoSGG9CARyp6V4z8Pf%2BCZ37IngzxFH498YeA7r4ieK05bxb8UtVl8QX5bsym7LRwkdvJjjA7CvfaK82nicRRg405OKe9tPxWvyvbyM1KSWgy3t4LSBLW1gSOKNAsccahVVQMAADoBT6KKwEFFFc/8SPiv8Lfg34bk8ZfF34k6B4V0iLPm6p4j1iCxt04zzJMyqPzpqMpOyV2NJydktToKK%2BVbz/gsN%2Byj4lvJdI/Zo8N/Eb4330LlJYvhD4AvNTtUYcfNfyrDYgZ4z5%2BB37UwftEf8FW/iv8Au/hN/wAE/PB3w9tZPmg1f4x/FJJZdnYtY6NDclWxztadT2OOtdX1HEr40o/4mo/g3f8AA6fqWIXxpR/xNL8G7/gfVtFfKY/Z0/4KwfEX/S/iR/wUZ8HeBkk4l0v4VfByGTYO4W61i5ujn38ketL/AMOsh4k/efF//goR%2B0x4saTm5th8UTo1rJ6jydIgtcL/ALJJ%2BtH1fDx%2BKsvkpP8ASKD2FCPxVV8lJ/okfVTukal3YKoGSScACuR8S/tBfAXwYzJ4w%2BN3hDSSn3xqXiW1gK/XfIMV4Kn/AARR/wCCal2wm8Xfs%2BXXimbOZJ/GfjjWtZaRvUi8vJF/IAV13hr/AIJX/wDBNPwkqjRP2BvhAGT7st18PdPuJB/wOWJm/WjlwC%2B1J/8AbsV%2BcmHLgl9qT%2BSX5yZtar/wUO/YB0Jimt/ty/B6zK/eF18TNKjI/wC%2BrgVjzf8ABUv/AIJoQNtf/goJ8Fyf9j4m6W38p67DSv2Nf2QdCULon7Knw2swv3Ra%2BBtPjx/3zCK2If2d/wBn%2B3XZB8DPByD0TwzaD%2BUdF8v7T/8AJP8AIP8AYe0//Jf8jzq2/wCCon/BNS7YJD/wUE%2BCuT0D/FDSl/8AQrgVvaN%2B3p%2Bwz4iYJ4f/AGz/AIT3xb7os/iLpkuf%2B%2BZzXSXX7N/7O96uy9%2BAnguYHqJfC1ow/WOsHWP2HP2KfEKlNf8A2PvhbfBvvC8%2BH%2Bmy5/76hNH/AAn/AN//AMkD/Yf7/wD5Kdn4X%2BK3wu8blV8F/EnQNXLfdGl6xBcZ%2Bnlsa36%2BdPFH/BIn/gl74vDDVv2B/hVFu6nS/BtrYn8DbIhFYB/4Iv8A7BGknz/hr4P8beBrkf6u68DfFnxDphj/AN1Ir7yx/wB8UcmAe05L1in%2BUg5cE9pyXrFP8pH1VRXyp/w7X%2BLPg7/Svgj/AMFR/wBojQrhf9VD4n1/TvE9qvplNTspZG/GWk/4Vb/wWO%2BGf/Im/tY/Bf4oQdfI%2BIPw3vNBuSPT7Rpd1LGD/tfZ8f7NP6tRl8FaPzUo/mmvxD6vRl8NVfNSj%2Baa/E%2BrKK%2BUT%2B2h%2B338Kv8Ak4f/AIJda/qljD8s%2Bu/BXx3p/iFXP95bK7%2BxXQHsFc8dzgVreB/%2BCvP7BfiXxDD4G8efF24%2BGfiWY7T4Z%2BL2gXnhe7V%2BmwHUY4opGyQP3bvycUngcVa8Y8y/utS/Jt/gDweJteMeZf3Wpfk2/wAD6YoqtpGsaR4g0yDW9B1W2vrK5jEltd2c6yxSoejK6khh7g1Zrk2OXYKzfFng3wh4%2B0Kfwt468K6brWmXK4udO1axjuYJR6NHICrfiK0qKabi7oD5r1P/AIJe/A3wrqVx4o/ZU8aeMPglrM8hmkk%2BHGuNDps8nUedpdwJbKRAf4REv1FV28af8FL/ANnH/kffh14Z%2BPfhuD7%2BseCGXQPEiRjlnfT7l2tLlsdFhmiJ7L2P05RXasfWnpWSqL%2B9q/8AwJWl%2BLL5299Txv4E/t6/s0fH/wARv8PNA8ZT6B40gH%2Bm/D/xrp8mka5btjJH2S5CtKB3eLzE/wBqvZK4T48fsxfAD9p3w4nhb48/CjSPEltCd1nLfW%2BLmyf/AJ6W9whWW3f/AG43VvevFn%2BCH7cf7JP%2Bn/syfFR/i/4Og5b4a/FHVNmr28Y/g0/W9uWPQLHeK6gDHmjrR7LCYj%2BFLkl2lt8p/wDySXqFoy20PqSivHP2eP24fgz%2B0D4hufhkU1Twd8QdNi36x8N/Gtl9g1i1UdZEjYlbqHjImgaSMgg5GcV7HXLVo1aE%2BSorP%2BvvXmm15ktNOzPOPHX7K3wb8WeG/GGmaH4K0nQNT8a2jRazrul6TCtxNIWDrLJ8uJT5gV2DcOR82au/CL4O6j4C1zXPH3jbxmfEfirxILWPVdXWw%2ByQrb2yOsFtBAHfyokaWeTBdiXnkJY547qiqeIrOm4OV0/%2BB13totPJGfs4KV7HjH7TrF/jb%2BzkShX/AIvPfjB9vBXijmvZ68Z/ag/5Lf8As4/9lmvv/UK8UV7NWJYUUUUAFFFFABRRRQAUUUUAeD%2BFPjN%2B0Fof7Z9v%2Bzp8QvEHgjxJpes%2BEdV8RLF4V8OXlje%2BFbaC9toLFb6Wa9uI7oXQmuFR1jtSXsZiiSKshiwvhX%2B1P8Xdd/bS8V/A34seJtE8M6Lb%2BJ7nTfAGgX/wn1u0ufE9tFpdvdm4tdenuxp93IrtdlreCBpBHauSAEZx0Xwm/YlvPg58QvG/xG8OftZfE27uvH2uT6rrcGrW3h2cLO7IIljm/sgXHlW8KLbwxPK6RxcBS3z1v337LUHiL45aL8a/Hvxv8a%2BIofC2tXOr%2BEfB2pHTI9J0W%2Bms7iyaeL7NZRXUxW2u7qNBc3EyqJ2IG5UZQDjP%2BChfxc%2BFHhrwf4M%2BFHiP4neHtP8AFPiD4w/D2XQfDV7rUEWoakkfjPRmka3t2cSTBVVixRSAFJOMGvoevGf28P8AkiGh/wDZZvhx/wCprolezUAFcT8ff2h/hD%2BzH8PZviZ8Z/F8OlaakqwWsexpbm/uX4jtraFAXuJnPCxoCx5PQEjH/an/AGpPBn7LXge11zV9Ivde8Ra7fLpvgvwXowD6h4h1Fx8ltAvYD7zyt8kaAs3YHhP2dv2RfGep/EGD9rX9tPVbLxL8UXiYaDpFsS%2Bj%2BBbZ%2BtppyNw05GBLeN%2B8kIwpVOG7KOHgqftq7tDolvJ9l2S6yei2V3oqUVa72PRP2afih8YvjD4JuvHvxb%2BBs3w%2BjvdRZvDWhanqaz6kdO2J5ct9Gi7LWdm3kwB3KKVViGBFJo37LXwo0z40678ftSt9Q1bxJrwgSWTVdQaS1tYoVVYo4bVdsClduRKyNNyQZCOK9GorF1pKcnT91S0sr7dtdenz/AV9dAooorEQUUV4H%2B1B/wAFAfh78BfGlt8Bfhr4M1b4o/F/VbYTaR8L/BpRrtIjgC6v53Pk6ZaZK5nnIyD8iuQRWlKlUrT5YK7/AK1fRLzdkaU6VStLlgrv%2Bt%2By82e9SyxQRNNNIqIilndjgKB1JPYV8w%2BP/wDgqp8FLjxfe/CX9kbwN4l%2BP3jayk8m70n4YWyT6bpsx6LfavKyWNoM5BBlZ1I5SsC0/YK%2BP/7YEi%2BKf%2BCnXxm%2B3aJMwktvgR8Nr%2Bew8M2y9Vj1G6UpdazIMKWDtHb7gcRFTX1L8Pfhx8PvhL4Qsvh/8LfA%2BkeHNC06Ly7DR9D06O0tbdfRIolVV/AV08uEofE%2BeXZaR%2B/d/JJeZvy4Wh8T532Wkfv3fySXmfMq/CH/AIKp/tN/6R8Z/wBofwz8AvDVx97wp8IrJdZ19om6xzazqEfkQyD%2B9bWp9nrovht/wSX/AGGvAviSP4g%2BMfhTN8S/Fy8yeMvi7q8/ifUXfOd6tftJHCfTyUjA7CvpKipljcRblg%2BRdo6fe1q/nITxle1oPlXaOn4rV/NkVlZWWm2cWn6daRW9vCgSGCCMIkagYCqo4AA7CpaKK5DlCiiigAooooAKKKKACiiigAooooAKKKKACsjxx8PvAXxO8OzeEPiV4I0jxDpNwMXGl65psV3by/70cqsrfiK16Kabi7oabTuj5W1n/gkN%2BzT4Z1OfxV%2ByV4t8cfAPXJpDK9x8JPE0llp88nUedpUwlsJUz1XyFyO44Ipv4k/4K0/stjd4r8JeDf2lvC0H%2Bs1DwwE8K%2BLI4%2BpdrSZ30%2B8YD%2BGOW3Zj0XkCvrWiutY2tLSraa/vav8A8C0l%2BLOlYyrLSraa/vav79Jfizwn9nX/AIKOfst/tH%2BLX%2BFWk%2BKdQ8I/EG3TN98MviJpUmieILfgk4tLjBuFwM%2BZA0seP4q92rzr9o79kr9nD9rfwmngv9or4QaP4otIH8ywnvYCl3p8uQRLa3MZWa1kBA%2BeJ0b3rwGb4c/8FBP2BR/afwV8Wap%2B0Z8LLUZuPAfjDUI08aaNAOT/AGfqb7Y9VVRki3u9sxCqqzMTT9lhq/8ACfLLtJ6fKWn3SS9R%2Bzw9f%2BG%2BV9pPT5S/%2BSS9T7DorzL9lz9r/wCA/wC2F4MuPF/wU8WvcTaZc/ZPEfh7VLR7PVtBvBndaX1nKBLbSqQwwww20lSy816bXLOnOlNxmrNdGc04TpycZKzQUUUVBJ5z%2B0Z%2Byj8Dv2p/D1tonxd8ICe702Xz9B8Q6dcNaarotwMFZ7O7iIlgcEA/Kdp2gMGHFeKj42/tJfsAzppH7W9/efEf4So4js/jJp2n/wDE18Px5wq65aQjEsQHH26BccZljUtur6wplxb293bva3UCSxSoUkjkUMrqRggg8EEdq66OLcIeyqrmh2fTzi94v8H1T3KUrKz2KvhvxL4d8Y6BZeK/CWu2eqaXqNslxp%2Bo6fcrNBcwuMrJG6Eq6kEEEEg1dr5I8Y/CT4if8E5NevfjV%2Byv4bvtf%2BEF3cveePvg5YL5kuhhjum1TQkP3ccvLYjCONxj2tgD6a%2BGPxN8A/GbwBpPxT%2BF3im01vw/rlkl1pWqWUm6OeJu47gg5BUgMrAqQCCKWIw6pxVSm%2BaD2fVPtJdH%2BDWqdtiUbarY82/ag/5Lf%2Bzj/wBlmvv/AFCvFFezV4z%2B1B/yW/8AZx/7LNff%2BoV4or2auUkKKKKACiiigAooooAKKKKACiiigDxn9vD/AJIhof8A2Wb4cf8Aqa6JXoXxh%2BLfgP4D/C7XvjH8T9cTTtA8OabLfapduMlY0GdqjqzscKqjlmZVHJFee/t4f8kQ0P8A7LN8OP8A1NdErg/2h7YftXfts%2BDv2S5P3/gz4c2Nv4%2B%2BJUA5ivrzzmj0XTpexXzYp7x42BDC2iz1rpwtGNar7%2BkUm5ei3t5vRLzfkVFXepe/Y4%2BC3jz4i%2BNLj9vT9qPQXtvHXiayMPgrwrd/Mvgbw%2B53RWaKeBeTLtkuZcBizCIbVQg/SlFFTiK8sRU5notklsktkvJfjq3q2KTcmFFFFYCCiivnH/goV%2B0B8UPCGmeE/wBlX9mPUYrb4t/GPUZtL8MalJF5ieG9OhQPqWuyp0ZbWFhsUn555YVw2SK1o0pV6ihHr9yW7b8ktTSlSlWqKC/4ZdW/JLU539oD9qD42/tFfGTVf2I/%2BCf2r21hq2iMsPxY%2BMdzai5sPA6uM/YrWM/JeauyHIiJ8uAENLydo9e/ZT/Y7%2BCH7HXgq48KfCXRLmW/1a5%2B2eKfFuuXRvNZ8R3xyXu7%2B7f57iViWPOFXcQiqvFaX7L/AOzR8Lf2Rvgro/wM%2BEemSxaZpaM9ze3kvm3eqXkh33F9dSnma4mkLO7nqTgYAAHoFbVq8eX2VHSH4yfd/otl5u7Nq1ePL7KlpD8Zeb/RbLzd2FFFFchyhRRRQAUUUUAFFFFABRRRQAUVxmp/tE/ArRfionwR1f4saFa%2BLJLP7Uugz6ii3Hl4yCQTgMR8wUncV%2BYDHNdkrK6h0YEEZBB61pOlVpJOcWrq6umrrurrVeaM6dalVbUJJ2dnZp2fZ2ej8mLRRRWZoFFFFABRRRQAUUUUAFFFFABRRRQB88ftYfsF6d8X/GUH7Sv7O/jZ/hl8cNFtvL0fx9pduGi1WFcEadq9sMLqFk20Da/7yLAaNlIwbf7Gn7aF/wDHfVdc%2BAnx58DJ4D%2BNXgeKM%2BM/BLXJkgubdjti1bTJWwbrT5iPlcfNEx8uQBgC3vlfPP7fX7KPi34y6Bo/x9/ZzvbfRvjd8MJJNS%2BHWtyfLHfgj/SNFvDkeZZXiAxOCRscpIpBQ57aVWNeKo1n/hl/L5P%2B73X2d11T7KVWNaKpVX6S/l8n/d8um66p/Q1FebfsiftMeEf2vv2ePDfx%2B8H6fcaemtWrLqei3oxc6RqELtDd2M4IBEsE8ckTZAzsyOCK9JrknCdObhJWa0ZyzhKnNxkrNaBRRRUkhXyP4rsP%2BHa3x9X4m%2BHl%2Bz/Aj4na/HB4y0teLfwT4huXCRapEOkVldSFY514WOVkkBAZlr64rB%2BKHw08GfGT4c658KPiLoseo6F4i0ubT9VspRxLBKhRgD/C2DkMOQQCOQK6sLXVGbjNXhLSS8u681un302bKi7PXY83/ag/5Ld%2Bzj/2Wa%2B/9QrxRXs1fL8/w08ffBu1/ZL%2BFPxM%2BIw8W6v4e%2BKl7YSeIjaGF72GLwZ4qWBpFLMTKIRGrvn53VmwN2B9QVhUjGE3GLuk9%2B/n8xPRhRRRUCCiiigAooooAKKKKAOQ8C/tB/AP4oeMtZ%2BHXw0%2BN/hDxF4h8OuyeINC0LxLa3d5pjK5jZbiCKRnhIcFSHAwwI61Ytfjb8Gb74p3PwLsvi54Ym8b2dgL288HRa/btqsFqQpE72gfzljIdPnK7fmXnkV81/DX4r6Z8WP239W%2BKfiz4SfEXwlpPws0nWvC/gXTbj4NeIYf7a%2B1XlmdR1ZroWH2d4JJbSBLWCKRmeNZrlwd8Yh5nwd8P/iDF%2B1J4e%2BG8vwo8UQ69oP7TviTx7rXjOXw1dJpU3h280LU7e2kTUzH9mnkK3thp/2VZDMn2ZmMYjhV6APe/wBvD/kiGh/9lm%2BHH/qa6JXIf8E7ov8AhNvEPxz/AGir8ebd%2BMvjTqthaXX97TNHCaVaoP8AZBtp3HvKavf8FC9N%2BK8/g/wZqPhzxp4etfC0Pxh%2BHo17Rr3wxPcaheOfGejeW1veLexx2wVtpYPbTFgCAUyCK/8AwSxmji/Zf1Hw69skN5ovxS8ZWGpRIWO24TxBfM2dxJ3EOrHnvwAMCu2jpgazXVwXyvJ/mkWvgfyPo%2BiiiuIgKKKKACvkv9kWzb46/wDBRL9of9qbWWFxbeCL7T/hT4I3jmzhtLaHUdWK/wDXW9vYlLdSLRRnjA%2BtK%2BVP%2BCW7LYah%2B0l4Uu/lv9O/al8VS3cbcNsuks7yByPQwzx4P%2Bz7V2Yf3cNWkt7RXyctfySOqh7uHqyW9kvk5a/kkfVdFFFcZyhRRRQAUUUUAFFFFABRRRQAUVxPx7/aK%2BDP7MPgUfEj45eN4dC0d7xLSK4ktpZmlncMVjSOFHd2IRm4U4CsTgAmsvS/2wv2ZdZ%2BCM/7RmnfGbRZPBtrCsl3rHnkC3LEBYpIiPMSUkhREVEhJAC5NdMMFjKlJVY05OLfKmotpy7J238jlnjsFTrSpTqxUormackmo92r3S89j8q/%2BCtHgPSvgT%2B23421vxj4bi8VR/EXwkL7RJrhHs10W6kkWJZEKcXDxC2PcBhON3IIP6Pf8E9vjr8NPF37BfgnxyPFmgWGn%2BGvDEGm%2BIJY9SKW%2Bky2kSxyJO8%2B0wsECO2/jEgZWdGWRvlH/gpN%2B3P%2Bzt%2B1N%2ByxqUfh/wDZw8d65pMV0E8O/Eu70ZNPsLG/34XyJ5g7S7ihSSIIpZNwypAdfj/472n7eXgT9lzwd4U%2BMnhi/wDDfww1a7M2hada%2BH7PTIrm6iTYGvFtoo5XmZFEim6y0oXzFLlSw/VZ5XieIcgwuFxC9lVhNR96SXMoxs%2BWN37yh9m0Xde9vc/JaOa4LhziPF4qg3VoTpyn7kG%2BWUpOUVKXu%2B66mnPeS5ZPlT5bP9Iv2mf%2BC3H7K3wY83RPhK8nxH1mIusqaRP9nsIGUqBm6kQiUHdkGBZRhWyVxz4v%2Byr/AMFzPiD8U/2l9G8FfHrRvBvhXwRq0k1u1/bW1z5lpKUYwGWeScqFMgVGfYFG/J2gFh%2BanhvSo9c8QWWjzC88u5ukjlOn2X2mdULDcY4ty%2BYwGSE3LkjGR1r9eP2Xf%2BCHX7Nfwv1CLxx8X/EF58QmksFNrpusaWdPtbd2w3mPAsrMzgZXZIxUbjlSwBXTNcj4N4Zy908VGUqk01F7yv3jqoRte%2Bq%2B8wyjPuNuKcyVTCSjCnTknKO0bdpaOcrpNaP7j7T8MeOPBfjaGa48GeL9L1eO3YLO%2Bl6hHcCNiMgMY2OCfetSvg7/AIJc%2BKPgP4Z/bH/aD%2BF/wd1jwza6Lda5Yv4YsLG5US3cVutws32cB2Wa3jZmIZSTh9xADYH3jX5hm%2BXrLMa6Ku1aMlzKztKKlqvK9vkfq2TZi80wKrtJPmlF8rurxk46PfW19ejCiiivMPVCiiigAooooAKKKKACiiigD5N/ZgtV%2BAH/AAUy%2BOv7NenjytA%2BIGhaV8VvD1lH/q7a8uJJdN1jHvJcWtrOR/euGP8AFX1lXypOy6p/wW9tPsJ3f2J%2ByvcrqZX%2BE3viS3NuG9yLG5IH1r6rrsxms4Se7hFv1s1%2BSR1YvWUJPdxi39zX5JBRRRXGcoUUUUAeM/tQf8lv/Zx/7LNff%2BoV4or2avGf2oP%2BS3/s4/8AZZr7/wBQrxRXs1ABRRRQAUUUUAFFFFABRRRQAUUUUAeM/t4f8kQ0P/ss3w4/9TXRK4z9k6YfBv8AbP8Ajt%2BzJqP7qHX9YtviX4TD9bm11GJLbUNvtHf2rEj/AKelP8Vdn%2B3h/wAkQ0P/ALLN8OP/AFNdErl/2/fAnjTwkfCn7b3wb0GfUvFfwhuZ7jVdFs1/e6/4auFVdTsFH8coREuYQc4ltwACXrtwTU5SoSdudWX%2BJO8fx0/7eLhrp3Po6isT4bfEbwX8XvAGj/FH4c%2BIINV0LX9OivtK1C2bKTwSKGVvUHBwQeQQQQCCK2645RlGTi1ZojYKKKKQBXyLfX4/Y/8A%2BCqcur6032fwR%2B0/otpaQ30nEVn410iBo44GPCob3TQoTPLyaftGSwr66rzb9rP9mHwF%2B1/8DNX%2BCHj65urJLwxXWja7psnl3uh6lA4ltNQtZBzHPDKqupB5wVOVZgenDVYU5uM/hkrP/P5NJ/eup0YepCE3GfwyVn/n8mk/v7npNFfNP7E37XPjvX/FN9%2Bxf%2B2LBa6N8cvBtkJLpok8qy8baWp2R69pmcB45MDzoV%2Ba3l3IyqNtfS1Z1qM6FTll/wABro13T/rW6WdWlOjPll/wGujXk/66oKKKKyMwooooAKKK89/af/aW%2BH/7Jfwju/jP8TdP1e50qzuYYJItEsPPmLyttTgsqIM8bnZVyQM5YA60KNXE1o0qUeaUnZJbtvoZV69HDUZVqslGMVdt7JLqehUV8j%2BHPjP%2B3p%2B2/o2na78BfDWm/BrwBqiLc23jjXZbfVtXv7Y8qbezXMUO7ofMOR1VsjBbpP8AwTR%2BO%2Bs%2BLr3xB8Xv%2BCm/xh1S1nBNpaeFdQbRGgchVOSss0RXaoG1Io%2Bct1Jz6zyihQvHF4mFOS%2BylKpJeT5PdT8ua669jx1nOIxFpYPCzqQf2m404vrdc/vNefLZ30utTpf%2BCkesftTXvg7w/wDDH9mP9nHSfG9xr9%2B51PUfENja3dlpQjC%2BWTDcsEDsWJEj5VRGRglhj4l%2BN/8AwRi/aX8IeD9M0f4MHT9bvNWsXv8Ax7e/25FpkSSlo3SxW1MgiNvCyM6yc7mPSMIoP2l/w668D6v%2B7%2BIn7V/x28VwDgWmu/EmRotvpiOND9Tnmkn/AOCPH7A81uwT4WarFdyZE%2Bpp4x1L7RMpGGViZypDDgjbX0OV8QYPJaMKWHraJttqjJ8ze3NzVV8PRRS11dz5vNuHcbntedbEUNWkop1orkS35eSk/i6uTemisflF%2Bz9%2By5%2B298cND1fwL8DfAviHXPCyagJdbsrbXBbaJqE0EgUZlaaO3uXBAwUdmA%2BZTgZrd%2BKPhj9rPxJ8WJ/2SfjT8WvE3iy8%2BH1hbyWHhrQYZdcUzRxxHyobR2jWeSKK4kEjkHCQyAF0AJ/cfwH4E8IfDDwZpnw98A6Bb6Xo2j2aWunWFspCQxKMAc5JPcsSSSSSSSTWXqfwP%2BEus/F3Tfj1qvgOwn8YaPpkmn6Zr8iEz29s%2B/ci84/5aSDOMgSOAQGYH0H4iOpi5znh48qT5LJc3Nok22na6Vny6pPd2R5q8NVTwkIQxMuZtc92%2BXl1bjFJq9m7rm0bW0bs/CP4ey/ET4U/GCy0Hx2niz4Y%2BME1kX9jqeg%2BB3TV4WuFVfK%2BzCe2225XDLEiMCGYKu1ip/RjxB%2B2l/wT/wDj1%2Byyf2aP2pv2wdW1LUprNI/EGtjwlfaLeyzRy%2BYr%2BUtu8SsMKpX51bGSCTX2hd/Cr4Z33xCtvi1e%2BANHl8UWdk1naeIJNOjN5DAxJMaykbgvJ4z/ABN6nOtqGj6RqoUappdtchTlRcQK%2BD7ZFebmvFuDzapSqToShKFneE4pqXk3Tk%2BXayb31t39TKODsbk9OtSp4iM4TurThJpxfdRqRXNvdpbaX7fjFL%2Bzd%2BwNa%2BMLvVv2Xv2nvjH4zvoLOX%2BxNM8CfDq4m1GzuyjCOR7hlt1kjBI3KiIWXIDrnI9Y/Y6/4Kp/tVeGvHPhr4U/E%2ByuPinG9q%2Bn6r4c8O%2BHLv8A4SLRHgMUQluGlhRbiTO4ONzc5LSKeD%2BpkMMNvGIYIlRFGFVFwB%2BApkNlZ20sk9vaRRvM26V0jALnGMkjqeB1qMTxdh8dQlSxeHdbTRzmuZaW3jTjbvpq2tS8NwbiMBiI1sHiVR195Qg1Fq99VKpJPt72iT0JaKKK%2BIPvAooooAKKKKACiiigAqDVdU0zQ9Mudb1rUILSzs4Hnu7u5lCRwxIpZndjwqgAkk8ACp6%2BK/j9431j/gp98VtT/Ye%2BA%2BsXMfwe8N6kLf8AaA%2BImnTFItUZCGbwpp8y/wCskk4F5KhxDETFu3yFa3w9B1pau0Vq32X%2Bb2S6v523oUXWlq7RWrfZf59Eur%2Bduh/4JlQ6l8dvE/xU/wCCjWu2M0Fv8ZNft7X4ewXURR4/CGlJJbadNtYbozdSPd3hXutxGemK%2Bs6q6FoWi%2BF9Es/DXhzSrew07TrSO1sLG0hEcVvDGoRI0VeFVVAAA4AAFWqWIq%2B3rOaVlsl2S0S%2B5ffcVer7aq5JWXRdktEvuX5hRRRWJiFFFeRftp/tJ3P7NfwdbVPB%2BjrrPjnxLfR6F8OfDSnL6rrVxlYEI7RR8zSsSAsUTkkcVpRpTr1VTgtX/X3dW%2BiTY0m3ZFb9qD/kt/7OP/ZZr7/1CvFFezV8vT/CjxJ8D7X9kv4X%2BM/iDqXivW9L%2BKl6Nb8RateSTzX97J4M8VSzyBpCWWPzXcInRIwiDAUV9Q0qkYxm1F3Se/fz%2BYPRhRRRUCCiiigAooooAKKKKACivF/2Ofi78cPiVdfFLwd8fr3wpd6z8P8A4mN4etr7wfotzYWtxato2lakhaK5urlzIrag8ZcOFcRqwRMkVyX7E/7U/wAXfjR8QvEfgj49%2BJtE0fXbW51iXSfh%2BfhPrfh/UE0211aS0hv477UbuSHV4Gh%2Bys8tpCsavdR5Zd6qQDr/ANvD/kiGh/8AZZvhx/6muiV7NXzx/wAFC/i58KPDXg/wZ8KPEfxO8Paf4p8QfGH4ey6D4avdagi1DUkj8Z6M0jW9uziSYKqsWKKQApJxg19D0AfIV/Jef8Eufinea8LaV/2cvG%2BstcagIYyy/DbWbiT55to%2B5pVzI2Wx8tvM5OFR%2BfriyvbPUrOHUdOu4ri3uIlkgngkDpIjDKsrDgggggjgg1HrWi6P4k0e68PeIdKtr%2BwvrZ7e9sryBZYbiJ1KvG6MCGVlJBBGCDivk5vC/wAY/wDgmPdyX/wy0DWfH/7PjStJd%2BE7MPd638PlJJaSxUkvfaauSWt8mWAfMm9Qy16Pu5gtXar%2BE/n0n66S7qXxX8fr%2Bf8AwT66ornfhT8W/hp8cvAWn/FD4Q%2BNtO8Q%2BH9Vh8yx1TTLgSRyDuD3VgeGRgGUghgCCK6KuCUZQk4yVmiNgoooqQPJP2uf2Nvhd%2B2B4R0/TfF13qOg%2BJvDd4dQ8DePvDdx9n1jwzf4wLi1mA4BAAkibMcq/K6nAI8c8D/t0/Fj9kjxLY/An/gqRYWOkC5uFs/Cvx80a1MXhbxKScRpfdRot8w%2B9FKfIdg5ikxha%2BvqzvFvhHwp4%2B8M33gvx14Z0/WdH1O2a31LStVs0uLa6iYYaOSOQFXU9wQQa6qWISh7KquaPTuv8L/NPR%2BT1OmnXSh7OquaP4r0f5p6Pyepdtbq1vrWO9srmOaGaMPDNE4ZXUjIYEcEEcgipK%2BQpP2Cv2hf2QrmTxB/wTI%2BNtvpvh8SGWf4F/E2a4vvDLZOWXTrpS13o5OWIRDLBuYfugBWn4S/4Kr/AA18G%2BIbT4a/t3/C3xB%2Bz34rupRBbv452TeHdRl/6ctdgzZyjpxK0MnPKCqeDc1zUHzrsviXrHf5rmRTwrmr0Hzrt9pesd/mro%2BqqKr6Tq%2Bk6/plvrehanb3tldRLLa3dpOskUyEZDI6khlI5BBwaq%2BM9X1fw/4P1XXvD%2Bgyarf2Wmz3FjpcT7XvJkjZkhUnoXYBQfeuVRcpKPXY45NQi2%2Bn6GlXx94ruPiV/wAFK/ij4m%2BEnh3xTceGfgb4N1uXRvFWo6Vcbb/xjfxbfOs45AP3VouQrEZ3g/xbv3eB8ENe/bV/4KWfDqPxR4j%2BPPhn4beBZbuaz1rRvhzb3P8AwkJljfbJZ3M11/x5vjBzHklWGVIavrT4JfBL4b/s8fDXTvhN8KNA/s7RtNDmGJpmkkkd2LvJI7ks7sxJJJ74GAAB9BKnDIJTUpRliVoktVT7yu0k57KNk1H4rt8p85GrPiKMHGMo4V6tt8rqdopJtqG7ldxcrctkua%2Bz4K8GeFvh14R03wH4I0SDTdI0iyjtNNsLZcJBCihVUZ5PA6nJJ5JJNadFFfPSlKcnKTu2fRRjGEVGKslsFFFFIoKKKKACiiigAooooAKKKKACiiigAoorm/it8Y/hL8CfB1x8QvjT8S9C8J6Faj9/q3iHVYrO3U4zt3ysoLHHCjk9gacYyk7RV2NRlJ2SuzpK534rfFz4YfAvwFqPxS%2BMnj7SfDPh3SoTLqGs61fJb28K9gWcgFieAoyWJAAJIFfM83/BRL41ftPk6H/wTQ/Zkv8AxbYzHYvxe%2BJUNxoPhGAf89YBIgvdVAIIxbxKh4Pm45rY%2BGH/AATT0nXvHunfHv8Abv8Aixe/HHx/ps32jRo9csUtfDXhuXsdM0dCYY3XgfaJjLOdobeprs%2Bqxo64iXL/AHVrL7to/wDbz/7dOr6tGlrXfL5LWX3bL/t5/I42%2B8aftPf8FUFPh/4RJ4k%2BDn7PV1xqXjy8t3sfFXjy2PWLS4HAfS7GRet5KBPIrL5aICzV9XfBz4NfC79nz4Z6P8HPgv4IsPDnhnQbQW2laRpsWyKFASSe5d2YlmdiWdmZmJYknpqKyrYh1IqEVywWy/Vvq/N%2BiSRnVrupFQiuWK6fq31fn9ySCiiiucwCiivMv2mP2tPhJ%2Byx4fs7zx3eXeoa5rUxtvCvgzQLY3esa/ddoLS2X5nOcbnOETILMoq6dKpWmoQV2%2Bg0m3ZHQ/HD44fDD9nL4Yar8YPjB4ph0jQtIh33NzLlnkYnCQxIPmlldiFSNQWZiABzXiv7LPwg%2BJ3xp%2BLJ/by/an8MTaPrk1hJZfCzwBekM3g3R5cb5Zh0GpXQCmZhzGgWEHhhTfg7%2BzJ8Wvjr8TNL/as/butrRdW0iY3Pw8%2BFFjdC40vwcSPluZ3Hy32p7Tgz48uIkiIdGH0xXbOdPCU3Spu83pKS2S/li%2Bv96XXZaXcqbUVZbnjP7UH/ACW/9nH/ALLNff8AqFeKK9mrxn9qD/kt/wCzj/2Wa%2B/9QrxRXs1eeQFFFFABRRRQAUUUUAFFFFAHi/wJ/Y81j4E%2BNPF/jW0/ay%2BJXiOTxx4rh8Qa9Y%2BIbTw6IHu0tbezIT7JpEDpG9vaW0TAPnEIZSrs7NqfD/8AZag8J/Ghfjz42%2BN/jXx1r1lod9o3h3/hKjpkcGiWN5cW1xdQ28en2VrvMj2VmDJcGaQLbqA43Pv9UooA8Z/bw/5Ihof/AGWb4cf%2BprolezV4z%2B3h/wAkQ0P/ALLN8OP/AFNdErU8M/tgfBrWvjTqP7PPiK9v/C3jC0u5I9N0jxXZGyOuQqcC50%2BRj5d3E3OAjFxg7kXFaQpVKqbgr21dui7/ANfOxMpxja7tc9SooorMo%2Bcfih%2Bw54h8HePdQ/aB/YT8f2vw48bajN9o8Q%2BHrq1abwx4sk7m/s0IMMzdPtdvtlGWLCTNS/C//goJ4ct/Gdp8EP2v/Ad18HfiDdP5VhZeILpZNG15xxu0zUwBDcZyv7lzHMCwUxkjNfRNYHxM%2BFfw2%2BM/g27%2BHnxa8CaV4j0O/Tbd6VrNilxBJ6Ha4IDDqGGCDyCDXdHFwqxUMSua20l8S%2Be0l5S%2BUkXzJ6SN%2Bivl1f2QP2mv2Xf9M/YR%2BPQvPDkPK/CP4sXM%2BoaZEg/5Z2GogteWAAGFRzPHk8qAKvaF/wAFKfA/gfVrfwV%2B2t8LPEHwO12eUQw3nixVuPD15Ie1trNvm2YY5xMYXGeVFDwMqivh5e0XZaSXrF6/%2BA8yDkv8Op9KUVV0TXNE8TaTb6/4b1i11Cwu4hJa3tjcLLDMh6MjqSrA%2BoOKtVwtNOzICs/xT4U8LeOfD934S8beGtP1jSr%2BExX2marZpcW9xGeqSRyAq6%2BxBFaFZnjLxp4R%2BHfhm88Z%2BO/E1jo%2Bk6fEZb3UdSuVhhhQd2diAPQepOBVQU5TSjv0tvfytqJzVNczdktb7W879DwHwR/wS6/Z7%2BCfxT034ofsueKfGvwohttXS%2B1jwZ4H8TyReG9bAfLw3GlziW2jVhlc26wuM5DA14j/AMFiP2rfjH4F%2BJPw8/Zm8GfEbxH8NPB/jTWrDTvHHxO03R3T7FHd3OxIre%2BPEUgSKUsV2soZTuIDgdn8Kv2oP%2BCj37Wc3iPxd%2Bzd4G%2BFeleAY/El1Y%2BFPFXi%2BLU1m1KyicqtzHEjZkyADuZEXLbMEoxHZeBf%2BCbnhXxfr8fxQ/bi8aS/GbxUdzJZeIbZToGnbusdtpxBiKjpmQEEgNtVua%2Bro06eVYt1czqRnKMWlBPnmpNaX93lTje/vuVnpZtWPBrZvjM8VL6rGbjzJuclyxcIyd0m3zTUraWWqt7yizzH9h74QXn7Ln7J3x48f/suXPi3x7qeo%2BJ9XuPA%2Bpa7qX9qXuvNbwBYZFdyiT5uWuBvJBkIIZiAuPSfhz%2B1t8U7f4aeF9GsdZ0X4o%2BO/E/iG80axsrrQ5/Bv9nTWVrJPfDVkke%2Be1aLy1U%2BXESTcQ7Yirb69n8Wfs/eBPEPha48LeH7zWfCaTJaJDd%2BDNYl02W0W2BWFYREQiIqkqU27GXhlYAY8r8WfsD3mj6XoVx%2Bz18ZJ/Dev6Ydf/tPxD4n0ttan1STWVi%2B23rgTwBL0PDG8UnzQxjcnkMhCr5FTF0sZVlUru8pO92u0bK7XTRbJdtrW%2Bpw8cBSp%2BzjFRV7rTy6td3q7attt73Lujf8FF/gtc%2BFPCfiDXtA8Q2s/iDRLPU9dt7LS3u4vCsFzcPaxyajMmFgjNxFPEHwf9RIxCqpI9/r468W/sGfEew1rxN8Dvh5oumt8OfiDbeF7TXfFN5rzLqGm6XpOxbnTfswhxN9pVJiJQ4Ae/uCygBc/Snx20X46a78N7vTv2cfHfh7w54rM8T2Op%2BKdBl1KyVA4MiPBFPC53LlQwcbSc4OMVy16eG5o%2Bye/d7LpfTTt12v1HXp4e8fZvfu9vXt267XOxor5V%2B2/wDBbbw5802gfsveLY0%2B99n1HxDocsg9laO9UH6tipLX9o7/AIKtaTIbbxJ/wTM8F6mEjdjd%2BG/j/DiRgpIUR3WmxEZIAGWxzzgCl9Tm/hnB/wDby/WwvqkntOL/AO3l%2Btj6mor5V/4bR/4KF2J/4nP/AAR48Zso6vpXxe8LXA/APeRt%2BlL/AMN7/tgQjF3/AMEg/jErdxD4s8LyD8xqdH1HEdOX/wACh/8AJB9Tr%2BX/AIFH/wCSPqmivlb/AIbx/bMuPl07/gkB8XGbsLnxp4WhH5nUjSf8Ni/8FHr7/kFf8EffEEIP3W1n41%2BGoB%2BPkzTEflR9Rr9eX/wOH/yQfU6/W3/gUf8A5I%2BqqK%2BVT8d/%2BCvPif8Ac%2BH/APgnr8LPDJPCz%2BKfjxLdAe5Sy0lvyDGj%2Byf%2BC2fij9xe%2BNP2Y/BsT/fl07RPEGuzRj/ZMs1mhP1Wj6nJfFOC/wC3k/yTD6o18U4r/t5P8kz6qor5T/4Yx/4KF%2BM/3PxX/wCCtPiG1tZP9fZ/DX4UaLopA9Enu1vZVx67vfFB/wCCPv7N3i3n9ob4ufGn4tj/AJ9/iH8XtUltc/8AXpZyW1vg/wB3y9vtT9hhY/FVv/hjJ/nyoPY4aPxVfui3%2BfKj1D45/t8/sT/s0Rzf8L3/AGqfAnhm4g%2B/p2o%2BJLf7aT3C2ysZnPsqGvK/%2BHqNv8UR9l/Yx/Yv%2BMnxbabiy11PCh8N6DKfU6hrRtgV9445PYHIz678Ef2Hf2OP2bPKk%2BA37LvgPwpcRD5b/RvC9tDdN7tcBPNc%2B7MTXqdHPgafwwcv8Tsvujr/AOTD58HD4YOXq7L7o6/ifJp8E/8ABXj9oc58a/Fv4b/s%2BaDP8x07wLpz%2BKvEIQ8GN76%2BSGyhbH8UdtLjqD6dD8K/%2BCVH7JHgXxjb/Fb4maLrfxc8c23MXjf4x63J4gvYTnIMEc/%2BjWmD0%2Bzwx46DoK%2BkaKUsbXtywtBdoq33vd/OQni61uWFor%2B6rfe9382IqqqhVAAAwAO1LRRXIcoUV5x4u/az%2BAHhTQfGOrwfEnS9ZufAmnzXfiTRtC1CG5vbYRAbkMYcbXBZVO4qFZ13lc5rzrxh%2B1P8RfGes%2BGfhF4UsJPhl4s1jxcdH10%2BKdMg1NtMzpt3fWwjEFwIZftItJESQOygxyJt3lK6aeDxFTpZeenS/rt2T6dylFs%2BjKpeI/Enh3wfoV34o8W69ZaXplhA019qOo3SQQW8Y6u8jkKijuSQK5D9m/4tax8Y/hkPEHivRrfTdf0zWNQ0XxHp1q5aKC/sruW1lMZbny3MQljySTHKhyc5rz7xL/wT%2B8AfGD4r3nxP/aj%2BIPiD4m2ceqtdeF/A/iGWOLw9oce7MaiwgVY7uRQdvnXPmkjHAPNEKNKNWUa8uW3ZXb8lsvm3a3fYElfU5jUf20/jB%2B1PeTeDP%2BCdHgGHUtL8xoNQ%2BNfjG0lh8OWWDtc2EXyzavMuGA8vbAGC7pSDiu%2B/Zu/Yp%2BH/AMBfEF58V/E3iLU/HvxN1mAR6/8AEnxWVkv506m3t1UeXY2oJO23hCqBjcXIBr2GysrPTbOLTtOtIre3gjWOCCCMIkaKMBVUcAADAA6VLV1MXaDp0Y8kXv1b/wAUv0Vo%2BTBy0stAooplzc21lbyXl5cJFDEheWWVwqooGSSTwAB3rjJPHP2oP%2BS3/s4/9lmvv/UK8UV7NXhXx48VeGPG/wAUP2aPFfgzxFY6tpd78Y797PUdMu0ngnX/AIQvxSNySISrDIIyD2r3Wm007ME0wooopAFFFFABRRRQAUUUUAFFcz8LPjT8HPjnol34m%2BCfxZ8M%2BMdNsNSk06%2B1Dwtr1vqEFveRhWkt5JIHdUlUOhaMkMA6kjkUng742/Bn4ieL9d%2BHvw/%2BLnhjXdf8LTiHxNoej6/b3V5pEhLAJdQxuz27EqwAkCnKn0NAHAft4f8AJEND/wCyzfDj/wBTXRK7n4zfAj4QftC%2BD5PAfxn%2BH%2BneINMdt8cN7F89vJ2lhkUh4ZB2kjZWHY1w37eH/JEND/7LN8OP/U10SvZqqE505KUXZrqhNKSs1ofNi/C/9tT9lT978DPGn/C4vBcP3fBHjzUxb69ZR/3LPVSNlyB2ju1zhQPOrsPg3%2B3N8CPi34nHwz1O/wBQ8FeOVA8/wH48sTpmqAn/AJ5JIdl0pxkPA8ikc5r2OuS%2BMXwG%2BDP7QXhg%2BDvjV8NNI8S6eCWih1SzV2gY/wAcUn34X/20KsPWuz6zRr/x46/zRsn818L/APJX5mPs5w/hvTs9vk91%2BKOtor5xX9lb9pz4C/v/ANkT9pue%2B0mL/VfD/wCLvm6tYqvQR2%2BoIRe2ygcKGM6j%2B7jinj9vXWvhMfsP7Zv7N3iv4crHxJ4q0yE694eYdA5vLNTJbg9cTwx4HU8E0vqUqmtCSn5LSX/gL1%2B5yH7ZR/iLl/L71%2Btj6Lqrreh6J4l0m40DxHo9rqFhdxGO6sr23WWGZD1V0YFWB9CMVj/DP4vfCr4z%2BH18V/CT4j6J4l01sf6boepxXUak/wALGNjtb/ZOCO4roq5JRnTlZppr5P8AQ1TTV0fNutf8EyfhD4X1e48X/smfEHxb8D9ankM0g%2BHmphNIuZexn0m4WSykUeixof8AaquPFP8AwVF%2BBB8nxR8N/Anx10WH5RqPhS/PhnXSo6u9pdtJZytj%2BGOeLPoO/wBNUV1rH1pK1ZKov7yu/wDwJWl%2BLNOd9dT4l%2BOH/Ban4Z/DbSv%2BEMtfhD4l8M/EW4u47RfDfxVgh0G101pFBS5ubt5TC0HOQ0chD4I3L1rpPgx%2BxV4U/aTWw%2BPP7W/x/tvjTqDzC5stH0TV1fwnpj9QlvbwnZPtBwXk4cY3ITkmh%2B1j4U0r9m79sTwN8dvBerQ3h%2BNXi7TvB3xD8C6oq3MOr2pQRR38cbZKm2UIGABU70zjc%2B/0Txj/AMEuv2I/EutyeL/DHweHgXX35XX/AIZ6tdeHLpH/AL%2BdPkiR26n51bk5619DVxGDwGCoywnNS9rFtzXvSunyyjd2lGKe3I/eTu5bpfM4fD0s1x1eOPvL2UklDemotc0JNX9%2BTWr578r0UdpP3yysrPTbOLTtOtIre3gjWOCCCMIkaKMBVUcAADAA6VLXzT/wx7%2B2F8OOPgJ/wUf8VzWsfzJpHxX8LWHiONz/AHTcxi1ugO2TIx9cml/4T/8A4KtfDnnxT%2Bzx8IviVbjjzfBXja80G6I9TBqEE0Wfbz8e4r594SM3enVi/VuL/wDJlb/yY%2BlUFbRr8j6Vor5r/wCHg/jfwj/o/wAa/wDgnz8dPDkyf8fFzonhq28RWaDuRLpdzM5A9fLHFTWH/BWn/gn/ACXaaZ4n%2BPa%2BFbxztaz8b%2BHdR0R0b%2B6ft1vEvHsSPel/Z2O%2BzTb/AMNpf%2BkuQ%2BSfY%2BjqK898Gftb/sqfEYIfh/8AtMfD/XC/3V0nxjZXBPtiOUnPtXf29zb3kC3NpcJLG4ykkbhlYeoI61yzp1KbtOLXqmvzSJaa3H0UUVAgooooAKKKKACiiigAoqprGvaH4dtDqHiDWrSxgXrPeXKxIPxYgV5l42/bx/Yl%2BHIceN/2uPhvp0ifet5/Gll534RiUufwFaU6Naq7U4t%2Bib/JMaTex6xRXzY3/BWX9i/WCbf4XeJvFnj%2B6P8Aq7XwB8OtZ1Uyf7skNqYj/wB90h/bh/aM8a/L8Ef%2BCaXxUvx/z9eO9Q0vwzB9cT3Mk%2BP%2B2O7/AGa6f7Oxq%2BKHL/iaj/6U1%2BRXJLsfSlFfNW//AIKz/En7tv8ABH4WWU/d31LxRqNuPoBZW5b/AL6B9qQ/sDfFn4hfvP2kf%2BCg3xZ8TK3EuleELm18KafIvdGTToxcMvbm4Jx1Jo%2BqUofxK0V6Xk/wSX4hypbs%2BlBLG0jRLIpZQCyg8jPTP5V4t8K/FfxA%2BF3x78X/AAf%2BNHxYvPENjfaNB4p8Ka1rNpaWogthIbW9sgYIooxHA/2RwWBci8%2BZmNdR%2Bz5%2Byp8A/wBljSdR0f4FfD9NFTWLhJ9XuJNQuLu5vpUUqsk09zJJLKwBIyzHrWh4k/Z4%2BCXjP4p6d8a/Gfw203WPE%2BjWhttF1XVojcnTUJJY2ySlkt3bPzSRqrsAAzEAARGeHhKcdXFrR2V76W6u2t767CTirnzRbfBLxN4n8U%2BEvg5cfDvVL/TrPxH4hkl8cWextL1Hwlq63U8qm5QkC5a4%2BxP5e07pIt%2BNpLD0jwH%2Bxz4u1ufU5/2k/Gum65KfD%2BkaRo974bguLG6STTnkki1ZpTIWivTJID%2B7OxPLGM72FfQXTpRWtTMa8laOn573vfpfstBubOd%2BF3wv8LfCDwhF4M8JG%2Bkt1uJrm4u9U1GW7uru4mkaSWeaaVmeR3dmYknAzgAAADoqK88%2BNf7WP7OH7Osaj4y/GLRNEupcfZ9KkufNv7jPQRWkQaeUn0RD1FcsY1sRUtFOUn21f4Gcpxirydj0Oo7q6trG2kvb24jhhiQvLLK4VUUDJYk8AAd6%2Bd2/ai/ar%2BOA%2By/srfso3ekadLxH43%2BMcj6RaAdni06Pde3CkcjeIAfUdadbfsD3PxWuY9b/AG2fjrr3xRkVxIvhWMf2R4agYHKgafbNm42njdcyS5HUCuj6pGlrXmo%2BS96X3J2Xzl8jH2zl/Djfz2X46v5Is%2BKf%2BCgPg/xHr1z8PP2RPAGqfGPxNbSGK6bwxKsWiadJ/wBPerSf6PH3%2BWMyycY2ZrPg/Y4%2BLH7RNxHr37enxXj1rTt4kh%2BFXgl5rLw7CQcgXUhIuNTIIB/elIsg/usGvoLwx4V8MeCdBtvCvgzw5YaRpllGI7PTtMs0gggT%2B6kaAKo9gKv0/rcaOmGjy/3nrL79o/8Abqv/AHg9k5/xHfy2X/B%2Bf3Hhnx%2B8OeHvCHxS/Zn8MeE9Cs9M02x%2BMF7DZafp9skMFvGPBPijCIiAKqj0AAr3OvGf2oP%2BS3/s4/8AZZr7/wBQrxRXs1cTbbuzfYKKKKQBRRRQAUUUUAFFFFAHyr%2Bwt8UvDUPxZ%2BO2nQ/C/wCIuhWniD4y2994bfW/g94h0m1urJvDuiWKzRyXVhFGIxcWNyhOQEEYZsI6M3EfsKfD/wCIOl/GH4U%2BGNW%2BFHijQ9Q%2BE/wz8Y6D8Ste1nw1dWVnqep3%2Bs6XNC1rdSxrFqa3L2d3fedbvKsYceYUkmK19w0UAfPH/BQvTfivP4P8Gaj4c8aeHrXwtD8Yfh6Ne0a98MT3GoXjnxno3ltb3i3scdsFbaWD20xYAgFMgja8cp%2B3P8MvGOpeLPh/L4X%2BJ3he7u3nh8I6gBouradGTxDbXa7oLhVH/PdUY9N/ep/28P8AkiGh/wDZZvhx/wCprolezVpSqezeyafRr/hmvkzGvR9tFJScWtmnb/NP0aaPEvBv7fPwK1PX4fAvxYOrfDHxPMdqaB8RrA6aZm6fuLliba4BPAMcrE%2Bgziva4ZobiFbi3lV43UMjo2QwPQgjqKzfGPgjwZ8Q9Bm8K%2BPvCWma3plwMT6dq9jHcwSf7ySAqfyrxaX9gnQ/AEz6l%2Byj8afF3wrn3F10nSr3%2B0dEZz1Ladeb41B/6ZGL2Ira2Eq7Nwfn7y%2B9e8vuZzXzChulUXl7svud4v5OJ77QQCMEZB6ivAR8Q/2%2BvhB%2B7%2BIXwS8M/FHS4uusfD3VP7M1IIOrPYXzGN3I5xHcfQdqv%2BG/%2BChf7Ml9q8Xhb4ieJdR%2BHWuSnA0X4laPNosufRZLgCCTPbZI2e3UUPB12rwXMv7rv%2BC1/AazHCp2qNwfaa5fxfuv5SLHxK/4J/fsrfEnxA3jmH4cnwt4oOSni3wHfzaJqSuf4zNZtH5p/wCugce3Fc6Pgb%2B3p8IRn4K/tZaV4706PiHQPjD4fBnCeg1PThHIW95IJPfNfQOlatpWu6fFq2ianb3lrOm6C5tZlkjkX1VlJBH0qxVRxuJiuWb5kuklzfnqvk0dHsaT96OnmtPy0f3HzuP2xvj/APDb9z%2B0b%2Bwr41sol4bXfhvdQ%2BJ7JgOshjh8u7jXvgwEj3617dc/EPwfp3w//wCFo67rCaXoaaUNRuL7Vka1FtbGMSbpVlCtEQp5VgCDwQDxXi3x9/bw0rwl43f9n/8AZp8FTfEz4oSAq2g6TKBZaP283ULn7kCqeqZ3ZwDs3Ka5G9/YJ/aM/aL0P7L%2B2z%2B2LrGo6dfbZNR8B%2BA9Ph0zS0wwcW7S7TJdRhgOXAY4HOQDXpLL6DpwrYu1CL1t70pSXeMNWl2cnGL6XWp5FTNKjqTo4KLrTWjeihF9pT2b7xipSXWzsjm/2DPEVn%2B2X%2B1/8VP2wfEn2fW9L8JX8Hhj4WajDaTx2tvZmNpbiWJJwGE7LJFvfAOJWAAVgK%2BjfAf7S3hzxu2t6nP4H8QaJoGhyagJfF2tR2qaZcJZTPFcSpLHO7IitHJzKkfCMcYFZvwB/Z88ffs96Lq%2Bg6Z8TdP8QW2p61c6kDqPhqOznV5IEjSIvausWxTFGo2wjEY2gcA15j4x/Zh%2BLkvhzx9rmlfCzwl4fTxBo9jb3vgrwLqRlh12ZNQFxe3rtLbWqfaJLdpYURl%2BZmbfLhgQsXVwmPxUtbQSjGGu0VZbWWr1b0tdtve50YLD1cFh0mrzk5Sm0t5PVvd6bJa3sklse/eCfjb8KviH4WuvGvhTxraS6ZY3Jt766uQ1t9mlG07ZFmCNGSHQjcBuDqRkEE9RFLFPEs0MiujqGR1OQwPQg9xXyL43sZIPHmlfGX9ojwRd6P4I8S%2BNLzUNY0DVNN%2B1nNrphtNMS9hgEilpcyy4O5VaG2QndtA9y/ZJ8NeKvA/7NfhbRfHOlvp9/DpzzyaUY%2BdNiklkliswo6eRE8cIXt5WK4MThadKmpxe720fqrrdp79NUd1OrKcuVr%2Bv%2BCelVDf6fYapaPYanYw3MEgxJDPEHRh6EHg14HF/wVG/YotJFtfGXxQ1Dwnc5w9t4y8IappRQ%2Bha5tkT8mNdv4T/AGzv2Q/HYUeDv2ovh9qLv0htfGFk0g9inmbgfYis5YLG01eVOS%2BT/NJ/mUq9GT0kvvRD4z/Yh/Yz%2BIhd/HX7J/w31aR/vT33gqxklz6hzFuB9wa4G4/4JG/8E7Xme50r9myy0aRzkv4a13UdKOfb7HcRY/CvoXSdb0XXrUXuh6va3sJ6TWlwsin8VJFWqcMbjqStGrJf9vS/K/6G6nK2jPm3/h1z8DNN48DfGX43eGFH3U0L4266ir9BLcv%2BtH/DuW/tuNH/AOCgX7SVmB0H/CxoLnH/AIFWcufxr6Soqv7Rx3Wd/VRf5xY%2Befc%2Bbf8Ahgz4zWnGkf8ABTX47IB0%2B2z6FcH820wZo/4Ym/abTiD/AIKifFoD/ppoPh5j%2Bf8AZ1fSVFH9oYruv/AYf/IBzy/q3%2BR82/8ADEf7SkvF3/wVC%2BLrDv5Oi%2BHoz%2BY06j/hgL4pXoxrf/BS/wDaBk9RY6roltn/AL50s4r6Soo/tDF9Gv8AwGH/AMgHPL%2Brf5Hzaf8Agm9Bdf8AIb/bs/aSvQfvD/haz2uf/ASGLH4Yo/4dU/su6p/yPniX4q%2BKs/e/4SL4z%2BIZQ31CXiA19JUUf2jjulRr0svyig559z530f8A4JN/8E5dHuxft%2ByV4X1Kcf8ALbxAk2psfqbuSTP416b4J/Zc/Zm%2BGjI3w5/Z28C6AY/9W2i%2BErO1K/QxRLXd1l%2BI/HPgnwfEZ/FvjDStLQDJfUdQjgGPq7Coni8bX0lUlLyvJ/hf9CXOVtWagAUBVAAA4AoryLxd%2B39%2BxB4GDDxL%2B1p8PYZE%2B/bweK7WeUf9s4nZ/wBK5g/8FOf2W9Y/d/DIeOfHM38MPgv4a6xfbvpILYRn8HojgcbNXVOVvRpfe7L8TF16CdnJff8A8OfQlFfPf/DZH7QHi3j4R/8ABO34mXg/5%2BPGeo6X4fi%2BuJrmSXH/AGzz7Uh1f/gqJ46%2Bew8G/Bn4e20vBGp6tqPiG8hHrthjtISR/vke1V9Rqx%2BOUY%2Bso/kuZi9vB/Cm/RP9bH0LVLxB4k8O%2BE9Lk1zxVr1lpllCMzXmoXSQxIPd3IA/E14P/wAMi/tNeOOPjV/wUK8bSwHk2Hw80DT/AA7GD3HmhJ7jH/bUH0Iq5oH/AATQ/Y20/VI/EXjH4WS%2BONWQ5bVviNrV3r8zt/eIvpZIwf8AdQCj2ODh8dW/%2BGL/ADlyr8A560to29X/AJXF8S/8FKv2P9L1WTwz4I%2BJE/j7Wk4XRPhro1zr87t/d3WSPGp/3nUVnn9oX9uL4rHyvgf%2BxhD4Uspf9T4g%2BMPiaO0Kj1OnWHnzk%2BzvH%2BHb3nw34W8M%2BDtJj0Hwh4csNKsYRiKy02zSCJPoiAAfgKv0/b4Sn/DpX85O/wCEeVfiw5Ksvilb0X6u7PnY/siftG/Ff99%2B03%2B2x4kltJPmk8L/AAtsU8N2Iz96NrhWlvZkxx/rkz6dc%2BhfBX9kP9mj9niRrz4P/BrRdIv5c/aNaNubjUJyepku5i88mefvOep9a9Hrzy/%2BN%2Bv6J8UtO8EeJPhPqGn6PrWsSaVo/iGfUbZvtV2tvLcf8e6MXWJkgl2uTuJQ5RRg0nicXXi4J2j2Vor7la/zuRJYeg1KW7dru7/HW34HodZXjDxv4X8BeGr/AMXeK9VFtYabGHvZUieVkBIAASMM7MSwAVQSSQADmvDfiH8WviV4U%2BJHizxqPiBPDpfg7xLpFnd%2BEpbaD7LNpF5FbpJdhxH53miWfzA/mbVWFk2dSfLvDHw3OpR2vwO%2BG%2B3SPHY0m%2Bj8YRm2MSvqWmXi3Wm6vdhQBIZ7gKfPwfOSWVcnbgXTwSa5py00/wA3f5Na67nFWzNxk4U4Xeq16vVK3fVPRtOy%2B7698A/EXwj8TdEbX/B2pPPDHO0FzFPayW89tMoBaGaGVVkhkAZSUdQwyMjmvN/id%2B1Z4i0bxxf/AAl%2BB/7PHi7x54m05kS%2BkS1/szR7J3RZFE2o3QWMnY6tiFZTg4xnitT4EeHPHcfj/wAdfEjxd4HuvDEXie80%2BSPRLrUre5LXFvaC3luw0DsqiRUgjAJDFbdWZVLFR6fWD9jRqu65l69fO29ttGjqX1jEYdWlyO7u7a2u1opbX0eqdu2x4D8Ybjx5dePP2Ybn4n6Zpdnr7/F69OqWuiXck9rFL/whXin5Y5JERmGMclRzmvfq8Z/ag/5Lf%2Bzj/wBlmvv/AFCvFFezVg3d3OuK5YpXuFFFFIYUUUUAFFFFABRRRQAUUUUAeM/t4f8AJEND/wCyzfDj/wBTXRKm8ZWv7bHgjxXqHiP4f6n4N8d%2BH7i6ea38MaxDJo%2BoWcRPEEN3H5sUuB/FLGpPdvWH9vD/AJIhof8A2Wb4cf8Aqa6JXskcsUoJikVtrFTtOcEdR9auE%2BR7J%2BpzYrDLExS55Qa1Ti7P8mmvJpo8Rh/bp8D%2BEZV079o34a%2BLvhjdbgjXXiTSDPpjv6JqFp5sBHu7J9OleteDfHngf4iaOniHwB4x0vXLCT7l7pGoR3MR/wCBxsRWpNDFcRNBPEro6lXR1yGB6gg9RXkvjH9hr9mfxXrD%2BKtL%2BH//AAi2utkrr/ge%2Bm0a8Vv7xe0ZA5/3w1XehLdOP4r8bP8AFnFyZzh/hlCqv7y9nL7480H84xPXKo%2BI/C/hnxjpEugeLvDtjqthOMTWWpWiTwyD/aRwVP4ivHP%2BFIftd/Dj5vhF%2B1dF4is4/wDU6L8UfDyXZI9DfWZgm/Flf8e/pPwk1T4v6r4Ykf42%2BENE0fWYbx4lj8PavJeWtzCFUrMrSRRvHliw2MCRtBzzgKUORc0ZJ/en925tQxk68/ZVqE4O3VKUX/29FtfJpX7HmWqf8E6/2bbbUJdd%2BEtn4g%2BGepzNue%2B%2BGviO40lSfe3RjbMPZoiO3SvLfjP8aPid%2Bxq01vq//BR74fa4bVMjwv8AFDw8rakseMj95pDLOxI/ia2bPvXMfEfxv%2B0h%2B2J%2B234u/Z5%2BEvxd8T%2BDvAnhe9tNK8Vtof7m7kURvJcTpOy/6KpYCGMrlpS24BkV9noPw2/Z/wDgb%2Bzf%2B0HZfCb4S/BDwWjiwt7ybxJ4yt7qbV9UuZHmaY29/JFKjOiRb2iBXlxgKOR9BGnSwsV9eqOcmlLkSi2k0muacr2dmtI8zXdHzE8asRKX1Cl7KKn7P2l5JOV2vdhBq6TTu5cqurWbPAf%2BCZfxU%2BNvwSvvHmseHP2LvGmpfDXXtSi1DTZfDVksssNwwYSNbyX62lxe27DG1SHaMKASSzFvrW0/4KP/ALLFncppnxL8R674Av3YKbH4g%2BE77SCp95Z4hCfwc12Hhz9pbwhr3iSbS7vQtS0zSzBqM2m%2BJdQaBbK%2BSwl8q7ZSJDJGEbLBpEUOgLKSAcdD4H%2BJHw9%2BMWkXknhi6e9t7eUQXttqGlzW7KWRXXdFcRoxVkZWVsFWByCRXLmePp5ji5YirRcb22k29Eldtppt2121PQyfD/UcJDDYbFKVuaylFLrdqKTi1FX03Vno2h/gX4v/AAm%2BKFuLv4afE/w94hiK7hJoetQXYx65idq6KvJ/HX7Cn7HPxIuDfeK/2bfCL3Zbcb%2Bx0eOzuSfXzrcJJn33Vzv/AA7%2B8DaB8vwn%2BPnxe8FRL/qrTRPiJdXNsh/643/2hMfhXncmDltNr1jf8Yv9D2faZjD4qcZf4ZNfhKP6nvVFeDD4A/tseGefBf7eC6nFH/qrTxr8N7G63D0aaze2f8cE0fb/APgpj4c%2Be58OfBTxXEnVbPUtV0eaQewkjuUB/wCBYo%2BrRfw1Iv5tfmv1D67OPx0Zr0Sl/wCky/Q93lijmjaGaNXRhhlYZBHoRXEeLP2Yv2a/HpY%2BOf2e/A%2Bsl/vnVfCdncE/jJGa8/8A%2BGiv2zNF58Vf8E%2B765jX/WTeFviTpd5%2BIS4%2BzOfpij/hubUNO%2BTxZ%2Bxb8c9NZf8AWND4Ij1BB9DZXExI/Crhh8XB3pv/AMBkv0khPMME1791/ihJfnBhq3/BMD9gHVrk3v8Awy14ZsZj0l0SKXT2H0Nq8ePwqr/w7K/Zl07nwZqfxG8NkdDoPxa16Hb9A12wH4Crf/Dx/wDZnsPk8Xr458Ov3j174Ya3Bt%2BpFoyj8TUlr/wUv/YRuphby/tLeH7SQ/8ALPU/OtGH1E0akV0c%2Bdpbzf3v/wCSMvreTX%2BOC%2BaX58pQH/BPq0teNF/bO/aCsgPugfFCW5x/4FRS/rR/ww/8TrH/AJAf/BRD44Regvr/AEe6x/33pwrr9N/bn/Yt1cD7D%2B1n8OCT0WTxpZRsfweUGtuy/af/AGatSAOnftDeBp89PJ8W2bZ/KWoeIzNfEn84L9aZtGpl0vhnH5TX/wAmebf8Mj/tP2/Gnf8ABSf4iqB0%2B0%2BFvD8387EUn/DLP7Yy8Rf8FMvGAH%2B38O/Djf8AtnXrkHxt%2BDF0M2vxd8MSD/pnr9sf5PVhfit8LnGV%2BJOgH6axB/8AFVH1vGLeK/8AAI//ACBoo4V7S/8AJv8A7Y8b/wCGVv2wZOLj/gpj4zI/6Z/D/wAOp/Kzpf8Ahj/9pC641T/gpH8TnB6/ZNB0GD%2BVgcV7E/xa%2BFcQzJ8TPD6j1bWYB/7PVS5%2BO/wPswTefGXwpEB1MniK2X%2Bb0LFY17RX/gEf/kAawq3l/wCTf/bHk/8Awwr44vPm1v8A4KDfHmc91tdf0u1U/wDfrTgR%2BdH/AA7x8NXnHiD9rD4%2B6mp%2B9HP8W72FG%2Bq23lCvRL79q79lvSwTqX7SfgC3A6%2Bf4xsUx%2BctYWqft9fsRaQCbv8Aaz%2BHrY6i28WWsx/8hu1Wq%2BaS%2BFP5QX6UzKVXLYfFUj85r/5M5j/h19%2Bx/ffP4r8N%2BLfEEh%2B8/iD4l67dbvqrXmw/981qeHP%2BCa/7A3heUTad%2ByP4FncHO/VNBjvmJ9SbgPk1Xf8A4KafsMFzHYftAWGosDjbo%2Bl3t6fwEEL5pv8Aw8T%2BB2pceCPAvxR8TE/d/sL4Uay%2B76GS2QVblnTVm5perX6xMli8nT0nB%2Bln%2BSkep%2BEfgr8G/ABU%2BA/hL4Z0Qp9w6RoNvbbfp5aDFdNXgx/bU8dax%2B68EfsJ/Ge/kP3G1TRrDS4j9WurxWH4rR/wvD9u7Xf3Xh79hfS9I3/duPFXxUtF2e7R2UFxn6Bq5pYbEyd5tfOS/wDkmzVZhhErQUn6Qm//AG1I95orwb%2Bzf%2BCmHiX91d%2BKPgt4Tifq9jpmqaxPGPYySWyE/VaT/hl79qTxR%2B6%2BJP8AwUD8VeQ337fwT4R0vR8f7sjx3Eo/77NT9Xpr4qsV6Xf5L9R/XKsvgoTfryx/OV/wPeq4T4iftQ/s3fCQSD4mfHjwjocked1tqPiC3jmJ9BGX3sfYAmuA/wCHc/wC1z5/ix4k%2BIHj5/8Aqc/iHqVzH/35jljhx7bMe1d38O/2U/2ZvhKY5Phr8AfB%2BizR423Vh4et0nyO5l2b2PuSaOXBx3lKXokvzb/IOfMp7QjH1k5P7opL8Tgz/wAFE/gx4j%2BT4K%2BAfiL8R26CTwZ4EvHt89s3NysMGP8Aa8zHvR/wtv8Ab6%2BIX7v4f/sp%2BGPBVu3MepfEfxoLiTb6m001JMH2My%2BhxXvdFHtqEfgpr/t5t/h7qD6ti6n8Ss/SKUfxfMzhvgj4W%2BPvh6z1C6%2BPvxZ0XxLe3ssb2dtoHhk6dbaaoDb40LTSyTBiQdzkEbenNZXxO%2BFfxf8AGPxu8N%2BOvCvjLw5pui%2BH9LuEjj1LRp7y6F3PIiyyxhZ4o1P2dDGrtv2%2BbIdhyK7Dxz8VPhj8MbP%2B0PiR8RdD0CDbuEus6tDaqR7GRhmvL5/2/fgVrErWfwi03xb8RblGKtF4E8J3V5ED73LKluB7mTFKDrym6kY7%2BWnbyX4mGJxOV4WCoV6yTTTs53m7O%2By5pv8A8BO71j4C/DfxZrGl%2BJ/HejDW9X0iXzLTVLzEchxIJUV1gCJKiOqsqurBSoPXmuzrw8/E39uT4h/J4B/Zz8N%2BCLVuU1H4h%2BJvtU5U9/senhsN7NOvvikP7LPxn8f/ALz49ftf%2BK76FuW0XwLbReHrPB6ozxb7mRe3Mwz%2BlKUG0vaTWnz/AAWn4mcMe5N/VMNOV%2BrSpp%2BrnaT/APAGeh/FL4%2B/BP4J2f234s/FPQ9ABXdHDqOook0v/XOLO%2BQ%2ByqTXnX/DX3jb4jfuP2aP2ZfFniiJ/wDVeIfEkX9gaSVPSRZLtfPmX2jhOfX07D4Xfsnfs5fBm8/tb4efCHR7TUi259ZuYDdX7t3LXU5eYn6vXodTzUI7Jv10/Bf5l%2BxzjEfxKsaS7QXNL/wOei%2BUDwT40SeN5fiD%2BzHJ8SLXS4Ndb4v3p1OLRJpJLRJf%2BEK8U5ETSqrsuMcsAa97rxn9qD/kt/7OP/ZZr7/1CvFFezVk3d3PUhHkgo3bt1e79dtfkFFFFIoKKKKACiiigAooooA%2BXfgN%2B2N8bfiB8YvC0njbTPCy%2BA/iZrXi7TPBVnpem3MWq6XJot3LFDJeXD3LxXS3dvbXMxWOGA27eXHmfJkF34V/tT/F3Xf20vFfwN%2BLHibRPDOi2/ie503wBoF/8J9btLnxPbRaXb3ZuLXXp7safdyK7XZa3ggaQR2rkgBGcdF4O/YM8DeAviTN8RvC/wAXfG8AtrrWbrwpoTz6dLYeFp9WvVvNSlsUeyLs08ocf6S84hSaWOAQq%2BK3779lqDxF8ctF%2BNfj343%2BNfEUPhbWrnV/CPg7Ujpkek6LfTWdxZNPF9msorqYrbXd1GgubiZVE7EDcqMoBxn/AAUL%2BLnwo8NeD/Bnwo8R/E7w9p/inxB8Yfh7LoPhq91qCLUNSSPxnozSNb27OJJgqqxYopACknGDXa%2BL/wBkP4U%2BIfEt7468L3/iHwf4g1Cdpr7WvB%2BvzWUlxIeS0keWhlJPXfGc96y/28P%2BSIaH/wBlm%2BHH/qa6JXTeIvit8T/B%2Bu3cWs/APVdR0aOdhaar4a1CG7lePPys9sxjkU46hd/41lWr06CTne3km/vsnb7jzcypZdVpRWMp80U9HyyfK7b3j70dOqa7XOc/4Qv9tD4fc%2BEvi94Y8d2a9LPxlo7afdhR/CLqyyjN7tD9fWj/AIah8feDv3fxq/Za8Z6Mq/f1Lw2keu2Sr3YtanzlH%2B9CPeui0T9qP4HaverpF/42j0TUDw2neJbaTTplPpi4VAT9Ca720vLTULZLywuo54ZBmOWFwysPUEcGlSxFCur05qXo0/8Agr5pHBQwsKivl%2BNlp0co1Yr1U/fX/gaOA8DftYfs3/Ea6/s7wr8Y9Ee93bTpt9dfY7sH0MFwEkz/AMBrw/SP2gP26/2sPFfi62/ZYsPh74P8HeFvFt94dPiXxWbm%2B1C%2BuLVwsk0EEYEaIdwIEgPXqeQNz/gof41Fuvg74D%2BCPg34U8U%2BO/ibfXWneGrrxdaQyWmkrBEJJrtw6MzeWrBlVR1GecBGk%2BAn/BNX4f8AwH%2BFel%2BD/CXxZ8caPrsUXm67r3hvxLNbJqV43MkrWz%2BZAFzhVUoTtVcljlj9Dho0svwDxVWEZTnZU1Jc2ib55uN0t0oxvfW7Ssrnm4itn%2BKxrwsbShT%2BN05Ok22lyxvNTSdveai1o0nJOyLv7MH7AOmfAXxF4k%2BKXi74yeIfEvjnxiwfxFrlqV0u2d95cmO0t8JksxOX3nrt27mz6T4i%2BCmpeLvHmneJPE3xO1W90bSdYTVdP8OSWdqscN2issZEyRrK0a72YIxJ3bfmwMHm/wDhWH7YPhD5/Bn7S%2BjeI4k4jsvHHhBA2PQ3FjJESfcxn8aP%2BFo/tgeFP3Xi/wDZh0jxAicyXvgrxpGCR6iC%2BjhP4bya82vjMRiazq1HdvyS02skkkklorHTQll%2BCw6oTwlWnFO/wymm73bcqc5813q7x1erRyGtfsq/Fa5%2BFt54S1jUdM1JdE8PPpfhyx02Zkl1SN7kS3TzvKESGaeBfI2glFMjsXwQF9P%2BDfhvxZL4x8XfFnxloNzo8/iW6tIdP0W8nikmtLO1hKJ5phd4/MeWSd8I7AKyDccVz/8Aw2f4M0X/AJKX8JfiP4SVf9Zcax4KuJoFP/XWzEyH65rZ8LftgfsueMpBBoXx68LmYnAtrzVo7WbPp5cxR8%2B2KiVec4tMeErcOUsTF08SlJfZlJRbaTS0moS0TaStb1au6vxG%2BPnxV%2BHPjK80sfsm%2BMfEXh%2BHy/sniHwtf6fctcZjVn/0WS4jlTaxZehztyOtYf8Aw378EdH%2BX4k%2BGPH/AIMb/qaPh5qUKD/tpHDJHj33Y969m03VdL1m1W/0fUre7gf7s1tMsiH6FSRVikp0rWcPub/4J60sPmLk50cTo9UpQjJeicZRdu2/qzy7wt%2B23%2ByD4yYR6D%2B0p4MaRjhYLrX4LeUn02TMrZ/CvQtC8U%2BGPFEH2rw14jsNRixnzLG8SZcfVCRVLxT8MPhr44DL41%2BHmh6wGGGGqaTDcZ%2BvmKa89139gT9jDxBP9quv2bfCtrLnIl0nThYsD6g2xQj8Kf8As77r7n/kTfPIdKU/nUg/ymj16ivEh%2BwF8DdM58D%2BJfiF4YPb/hH/AIl6vEB9A9w4H0xij/hjrxTp3z%2BF/wBtH4x2bD7q3mv2d8g%2BoubR2P8A31RyUXtP70/0bD61m0fiwqf%2BGrH/ANujFnttRXdlZ38Rt760imjPVJYww/I14v8A8M/ftZ2Hy6N%2B3rqzoPurrHw%2B0m4x9TGkRP50f8Kx/by0zmw/at8FanjoNT%2BGDxZ%2Bphv/AOlHsodJr8f8g/tHFL4sJU%2BXs3%2BVRHpOpfBz4RaySdX%2BFfhu6J6/adDt3z/30hrEvf2Uf2W9SJOo/s2eALgnr53g6xfP5xVyP9l/8FGbT5YvGnwXvgOjTeHdWgY/983bj9KPP/4KOQ/8wv4JXH/b/rEOf/IT1ovax2qr/wACZjLG0JfHhKn/AIKi/wD25m5P%2BxB%2BxhcndN%2ByR8MyT1I8C6eD%2BkNV2/YM/Ylc5P7JPw5/DwdZj%2BUdZf8Abf8AwUXh/wBZ8OPg1N/1y8Xaqv8A6FY0f8JT/wAFDF4Pwb%2BE7e6%2BONQH87Cr58Uv%2BX3/AJO/8zN4jLnvg5/%2BCDVj/YP/AGJozlf2Sfhwf97wZZH%2BcdW7b9in9jezO61/ZM%2BGkZH8S%2BBNPB/Pya5//hJ/%2BChz8L8H/hKnu/jfUT/Kwo/tb/gozN9zwH8FoP8Arp4p1Zz%2BlkP50OeKe9b/AMnf%2BYLEZetsHP8A8EI7Sx/Zh/Zq0sg6b%2Bzz4Gt8dPI8JWaY/KKt3TPhj8NtEIOjfD3Q7QjobXSYY8f98qK8u3f8FHZv%2BWPwStv%2B2usT4/8AHUo/sH/gonf/AC3PxM%2BD2ng/xWfhHU52H/fy9UH8qhqpL4qi/wDAmzWONox%2BDCVP/BcV/wC3o9sSNIkEcaBVAwFUYApa8S/4VH%2B3NqHzX/7Y/hqwz1TS/hWjY%2BjTXrfyo/4Zw/aZ1P5PEv7e3ioxnqmjeD9Gs/yY28jD8zWfsodZr8f8jX%2B0MW/hwlT5umvzmz22ivEj%2BxbcXvPiT9rv41agW%2B8q%2BNkslP0FnBEQPxqnD%2Bwp%2ByRrGrzaH4nfXPE%2Bp28ayXVtr/xG1S8mRG6M8TXWAD6leaOSgt5/cv8ANkvF5q7JYeMb/wA1WP8A7bBnrvib4m/DfwUrN4y%2BIOh6SF%2B8dT1aGDH13sK88179vv8AY08PXP2K4/aL8NXs%2BcCDRLw6i5PoFtRISfYVW%2BF37Lv7BF7DNe/C34LfDfVhZXBhnurXTLS/aGUAEqZGDlWwfXNes6D4V8L%2BFbb7H4X8N2Gmw4x5VhZpCv5IAKP9nXd/cv8AMVOec4iClCVFJ9Vz1PxvGLPIP%2BG6vBOs8/Df4H/Ffxajf6u40f4e3UELf9tb0QIPxNH/AAvL9sPxR8vgj9isaXFJ/qr3xt49s7baPVobRbl/wyDXt1ZviLxj4Q8IW/2vxZ4q03S4sZ83Ub6OBcfVyBR7Sktofe2/8hzwuO5eavi3Ff3Y04L75c7/ABPIv%2BEQ/wCCgfjEbNe%2BM3w48FRHnHhjwrc6rOPbzLyaNPx8r8DR/wAMZap4o/efGL9qv4o%2BJy//AB8WVtr6aNZyj08nTo4Tj2LmtvW/23f2UtEu/wCzx8bdI1K57W3h8yanIx9AtoshNUv%2BGtb/AF/938M/2Z/iZrzP/qLmfw%2Bul2z%2B/m30kRx7hTR7eovhsvRL/gs8qVXhpy5amIdZ9vaTq/8AktO6/A0PA/7FH7KHw7vP7U8NfAbw819u3f2lqln9vut3r590ZJM%2B%2B6vT4YYbeJYLeJURFCoiLgKB0AA6V5B/wl37cHi3/kA/BzwN4Qi/56eJvE82pTY9fKs4kTPt5v40n/CiP2jPFv8AyUn9rvVLWB%2BZLDwN4dtdMC%2BwnmE8uPcEVnKc5u8m36nZh8XRoQ5MBgp28oRpR%2B%2Bbi/8AyVs9c1DUtO0izk1HVb%2BG1t4lzLPcShEQepYkAV5j4h/bU/Zs0TUW0LS/iPF4i1McLpXhC0m1adm/u4tFkCn/AHiKo2P7F/7M8eswv450e58YawVMiTeOPEFxqksgHVhFcSNHj6IBXd/D7WfhRDNc%2BCvhtDptn/Z7ES6fp1gLaNdrFGKAKquAw2kpkA8Eg1k6kFJJtXZo62dVZKLdKjfRXbqS9LL2cL29Tg/%2BF6ftF%2BOhs%2BE37K1/YQScR6t8RNYi0xEPqbaHzpyPYqh/lQfgt%2B018QPn%2BLH7TTaLayf6zR/hvo6WWPb7ZcmWY/VQn%2BHquv8Aibw34VsjqXijxBY6bbDrcX92kKD/AIE5ArhLn9qz4UXc72PgP%2B2PF90jYaDwno014o%2BsoAhA9y9ZVcVhqDtUmk%2B19fu1f4GFfC4Sm7Zhi5Tb%2BzzKCfpClaT%2B%2BRyHxw8LWfgr4j/sy%2BFNP1C/u4bH4wXsaXOqXz3NxJ/xRXig7pJZCWdjnqTXvFeF/HvVr3Xfih%2BzRrGo6BdaXPcfGG%2BeTT71kMsB/wCEK8UfK2xmXP0Jr3St4yUoprqe/SVONKKpq0bK2%2B1tN9du%2BvcKKKKZoFFFFABRRRQAUUUUAFFFFAHjP7eH/JEND/7LN8OP/U10SvUrLxv4O1HVZtCsfFOny31vKYp7NLtPNRwcEFM5/SvLf28P%2BSIaH/2Wb4cf%2Bprolem%2BJfh34E8YA/8ACUeENOvmI/1txaKXH0fG4fga4sb/AGioJ4Pkbvqp8yTXk4Xad%2BrTXkTLm6F3W/D2geJrJtM8R6HZ6hbN963vrZJUP1VgRXB3n7KXwajuH1HwjpeoeFbtjk3XhTV57DH/AACNhGfxQ1euvg5ofh23e98LeP8AX/DsUQ3bIdXMtsnuY7jeoH0xXz58fPjr%2B034p%2BLD/sUfss/ELw9r/ie90aW48WeKr7StkfhO0YBVMjROyNcvu%2BRCmRlSVwcjkwKxea49YXFYJJpc0pqdOcYQ19%2BWsKsY6WXuNuVoq8nY8nNHgaVFVcVR523yxsk5Sk9oxekr%2BjVlduyTZyP7M/gr4y/tNftPa3%2B1/wDD/wCJSXXhTwZa3fhP4d6p42slvpNW2zZuryPyBD5cZJaNZRudlJU9CB9Qf8Jl%2B1F4b%2BXX/g1oHiFB1uPDPiQ274/65XaKM%2B3mVz/7OfhTxF%2Byr8EfDnwOT4R6vd6d4csPs66jpV9b3TXDl2kklMeY2Xc7s2ADjdjJrt4/j98NYXEGv397osxODFrelz22P%2BBOm39aM14l4er4y0MTKhCCUIKop0/djdK/toct5Xcn7%2Brl5I4sryp4TBrmrThVl707SuuZ7q01JWWkVrtFamR/w07oWk8ePvhf438OBeJLi%2B8NSXECn/rra%2BauPfitXw5%2B0j8BPFbiHRfi5oLTE4FvcagkEufTy5SrfpXSaL4y8I%2BJAD4e8U6dfZ6fY71JP/QSaZ4j8CeCPGEZi8W%2BDtK1RSMFdR0%2BOcY/4GprajPEVqanQrQqR72Vv/AoSaPTVPNIL3KsJr%2B9Fr8YS/Q0bW7tb2BbqyuY5onGVkicMp%2BhHWsrxT8Ovh944jMPjXwJo2sIRgrqmlxXAI9MSKa5G6/ZK%2BALzteaT4FOjzscifQNSuLBlPqBBIo/MVH/AMM867pX7zwf%2B0R49sGX7kd7qcOoRD/gNzE7H/vqtfa46PxUk/8ADJflJL8yak8dKHLWw8ZrynFr7pxRR1L9hj9lC/u2v7T4NWGlXDf8t/D1zPprD6G1kjxUH/DH1jpn/Il/tEfFbQ1X/VQQeM3u4k9gl4kwx7Vq/wDCEftQ6N8%2BkfHXQdXx0i13wf5efq9tOn6KKP7a/a20j573wH4F1pR207XrqzdvwlgcD/vo0fXGvjpTXyv/AOkyf5HlvAZMneWAlB94wt%2BNGpH8jK/4Ul%2B1HpPy%2BG/2zbqeNfuReIvAthdceheDyGP1zR/Zn7eekfu7bxZ8KdbRej3mj6jYSN9THNMo/Ba1f%2BFwfGvTvm8Qfst6xsH3n0fxFYXf5K0kbH8qX/hpW3tv%2BQ18DviPYgfeZ/CjTqv427yCj%2B0MKvibXrGS/wDbReyymHw161P/ALfrL/0uE0ZP/CfftsaL8uqfs6eDNZx1fRfiBJBn6C4sx%2BpFH/C/P2itP%2BbX/wBifxEEHV9J8WaVdfkDNGx/IVrf8Nb/AANg%2BXV9c1XTX7pqfhi/gx9S0GP1qzY/tXfs3agdsPxp8PofS5v1hx9fMximswwDdvax/wDAkvzaGp4a9qeZteUpUX/6VCLMD/hrLV7X5dY/ZN%2BLlsR94xeG7a5X8DBcuT%2BVL/w2d4Jt/wDkNfCD4p6cO5vPhtqOB%2BKRsD%2BFdvY/G74Mang6d8XfDFxnp5Ov27fyeta08Z%2BD7/BsfFemzZ6eVfRtn8jW8a9CfwzT9Gn%2BTOqEMfP%2BHj4y/wC4dJ/%2Bk1EeZf8ADdP7OsPGp6t4lsW7reeAdYTH4/ZSKP8AhvT9lBf9f8U2h/6%2BdAv4v/Q4BXrsU8M674JlceqMDTq1NvYZ70xFN/8AcJ/pVPH/APhvr9j4ff8AjrpSf9dYZ1/nGKUft8/scH/m4LQPxlcf%2By16/SFVPUA/WgPY5/8A8/qX/guf/wAtPIT%2B31%2BxwOn7QOgn2WSQ/wAlo/4b4/ZCP%2Br%2BN2nSf9crS4f/ANBjNevgAdBRQHsc/wD%2Bf1L/AMFz/wDlp5B/w3n%2Bys3%2Bo%2BJF1P8A9e3hjUpf/QLc0f8ADcnwGn/5BC%2BL9QPYWXw91ds/99Wwr1%2Bori%2BsrQZuryKIeskgX%2BdDaW4OhnttcTTXpSf61Tm/hZ8WtG%2BLenXWqaJ4Y8R6bFazCMjxH4euNPaXIzujWdVLr7jjPFcR8crK98L/ABK8NfEPSNSkhiGt2kGseX4mujPIsjeSsEVgSbdlbeC7Da/ykgE816TefEDwHp%2Bft/jbSIMdfO1KJcfm1cnq/wAQ/wBlSDxLH401vxr4A/tqBAkOqT6hZG7RRnCrITvAGTwD3PrWMsRh4fFNL1aX6meNjGrgo0qteHOmnzNqGzvdJSfpa9nrdq55p%2B0JfeHj441jXdTubaXWZNJ05/hrdROrSyzx3X7%2BCzfqZnYhXVDuZHIOVBxBN4TvNS8eXvgbT9FurbxZP4h11rvUxZSKH027tHKSmfG0x7zGiLuyrRgAALkemP8AtX/sy6Wq2dr8WNFYIMJDp5abA9hEp/Sk/wCGsPhHdfLoEXiXV27Lpng7UJM/QmEA/nWLzHAf8/Y/Jp/lc8arhcpq4iVSeLhq7tKzeu%2BqbfN0jK11HTUxvgNp/iO78fQa3ceFNT0iHTfAVjousx6hpslskuoQSt/qdygTIq7x5iZUhkwfTqvin8KPG3xF1a2m0T4%2BeJvCmnxW3l3Fh4dt7MNO%2B4nzPOmgkdTggYHHGcZzWd/w0XqF58uhfs8/Ea7Y/dM2hR2qn6m4mQj8qT/haP7Qmof8gf8AZhkgVvuyaz4wtIce5WESn8KX1/DP4W36Rk//AG1Ho0f7Mjgvq0pTqJu75Y1Ffb%2BRRstFdKVnq3vZZX/DFvgHVPl8efFL4k%2BJ0P3odZ8fXqxH/gFs0Sj8AK0fD37Fv7KXhif7Xp/wE8Nzz5z9o1SwF7Jn133G9s%2B%2Bc1J9o/a91T5otN%2BHmjI3QTXN7fSL%2BCrCpP40f8K1/aM1X5tc/aShslb78OgeELePA9A9w8p/HAo%2Btzl8FGb%2BSj/6VL9CIYHKVLmp5e5PvKEb/fVnNnf6J4d8P%2BGrQWHhzQrPT4B0hsrVIkH4KAKt7l3bNw3EZAzzivNf%2BGabLUf%2BRv8AjL8QNZVv9ZDN4me2if22WqxDFb/w/wDgb8K/hdqU2teB/CSWl7cweTcXslzLPNJHuDbWkldmIyAevarhUxc5rmpqK85Xf3JW/E9ihUxrko%2BxjCH%2BNNpeSjG34opfGvxB8QPCOlR%2BJvCF40kNuR52nw6IbkyEZZmlkD5iiCA5KoWzjBOQtQfFHw/r/iu40TxX4bv7W60u2t5pLy0ufEdzYW0ysEaOUmAES4K8B8LhjzVz4rS6bqeoaR4O1G%2B1eKHUp2juxpd4IQYmxGBKcFirMwXCkHJ64rM8dado9m1zpEHg3R73TNE06HUbmw1ayNwHVd0YEW9tsW1I2OdpyRjAzmvGx2Y4Wk6/NJtRcU0rtqVnPbtypuW%2Bias3oYYjD1atSqm/dfLbV6SWulk7LuuvY42%2B1i11/WY/HKeHLuLWfEB0TU/Csj2bvKm5fKmtvMA%2BVY13NIpIBEhbB3V0vgbwT4v0jxb4e0O50C6ht/CsupodZaWMwXllOx8iJQG3l/8AUlsrgGE8ncK0o/EPilL%2Ba9sdaIifV5NKt9N8iNYoAYg0DqAu7cMhmySCCcAAU74V6gv9qWNvpmoTTQ6h4dS81KCe7eZ7e8DIrbi5JUtucEcDMR4rzcNmmGqY%2BFLlleUt/dV/ednZXveUW3qpQja6avbGjlsY1VOU23dPRJX1vrvvJXvulZbHUeJvh74E8a3lnqHjDwdpmqzadvNi%2Bo2STeQX27iu8HBO1efYVqQw2mn2ohgijghiXCoihVRR7DgCsXxhoXiHxFPb2WgfEGfRVRWN3HZ2sMkswONpDSA%2BXjnkA5yOmOchPgL4Hu3E3i261bxDIDkNrmqyzKP%2B2YKx/wDjte3XxWYrEzhg8KpdHOVSEYt2XSKnUdttVH7rM9b2ahUcowSb3eiv66XfzOL/AGmLi3u/jR%2Bzfc2s6Sxv8Zb4pJGwZWH/AAhXijoR1r2mvEv2jtM03RvjB%2BzbpekWENrbQfGS%2BWG3t4giIP8AhCvFHAUcCvba9en7T2a9pbmsr2va/W19bX2vr3NlcKKKKsAooooAKKKKACiiigDmPDnxt%2BDHjH4g6z8JPCPxd8Mar4r8OIr%2BIfDOm6/bT6hpatja1xbI5kgB3LguozketFr8bfgzffFO5%2BBdl8XPDE3jezsBe3ng6LX7dtVgtSFIne0D%2BcsZDp85Xb8y88ivjj9njw94z8F/GrwHofiD4QeNdO1L4Y%2BJ/iTf%2BP8AxMfA%2Bota6lbaxrEkloLW5SArqRvXntb1ktzKYRaN54ieMLV3wd8P/iDF%2B1J4e%2BG8vwo8UQ69oP7TviTx7rXjOXw1dJpU3h280LU7e2kTUzH9mnkK3thp/wBlWQzJ9mZjGI4VegD3v9vD/kiGh/8AZZvhx/6muiVtfG79oD9n/wDZVspvHfxl%2BKkejJeIxt9MuL15pbtsjPkWq7nds8fIuBnnArm/22fg/wDtP/GHwpoul/ADxV4CW20nxh4b13UPDnjDTb2F9VbS9esdTMceqW0sgsQyWhXLWF1uYgfIG3L85/sb/B/9pjV9W139prWv2Yvhj448bTeN9f0mTxZ48%2BOWoS3do%2Bl6veaayWsaeFzFbxB7RyjIFYowJEYPlJpSwOT4qpGtj026T5oKPxc1mtJXSirb3Urp6Rb1XJi62ZQiqeDSvLRyk9Ir/CtZN9EnFaayS39Z0z4mftS/ti2jat4N%2BFmr/DDwVHdRNp2q%2BJVjOqa3CSQ2LPaxtUIIPmMc7clWyeO8%2BEf7NHwa/Zk%2BHkfhX4fJCbia5k1HXNR12Uy3%2Bv3WH3Szy/K0j7mYjA2gnhRml/4Tj/goX/0a/wDBn/w/Grf/ADL0j%2BNP%2BCg8gAk/Zb%2BC7AHI3fHfVjg/%2BEtXzmc5HHHrGrDS9nDFKClBuUorkd4u%2Bk5Wdnyybp3VlBRlJHRgqaoSpVK79pUhe0mkn726SXux000XNbeTZ39xqN8Zmlsrqa3W0e1hgs9wIdnAZlfOSTtYDrxjNWdO16/1C%2BtjdCF7PUWnEEHlHcqJnDlicEMB0x/EK8vk8Qft7y6iurSfso/BY3KDCyn476tkcEf9Cv1wTz71Bpuq/t%2BaXdG7h/Zj%2BD7kKywpJ8e9WKwqxyVQf8ItwCQPXoBXh0cj4iw%2BPjKNe9Nzu7SaXKmrNxaa1hen7OFoJ8sneyt6cq%2BGlTacdbdv19dbvXdHqetfCD4W%2BIWMmr/D/SZXPWZbJEk/76UBv1rN/wCFE%2BFrL/kWfEXiPRh2TTfEE%2Bz/AL4kZ1/DFeMTfHL9uzxl8Zdb%2BB1t%2BzR8M7HVfDHhjSddury1%2BP2qRwSwalcalbwop/4RglnVtKnLBlAAkjwWJYL1%2BmeLP%2BCiFhYx2c/7N3wfumQHM8/x41Xe/JPOPCwHt07V6s8ly7E5lONXLoKNrqqnBOT0umoKnUi99XJp280cEqNBwUrq/azX47Hcf8K%2B%2BKGncaH8b7t0H3Y9X0a3uPzZBG360bf2hdP4EnhDU1Xuy3No7fl5gzXHf8Jx/wAFC/8Ao1/4M/8Ah%2BNW/wDmXo/4Tj/goX/0a/8ABn/w/Grf/MvXR/q9hofwK1an/hrTa%2B6ftEZezXRv7/8Ahzsf%2BE4%2BL1l/yEvgkZgPvPpniGCTPuFlEZo/4XLJbcav8J/GNqR95l0cTqPxhd647/hOP%2BChf/Rr/wAGf/D8at/8y9cvq37R37duj/GfQPgdcfsofCRtU8ReF9X12zuU%2BOuqeRHBp1zptvMjk%2BGNwdm1SAqApBCSZKkKGP7Lzan/AAsfP/t%2BnRn%2BSpsOWfSX5HrX/DQXwui%2BXU9WvbBu66ho11Dj6lo8frW14U%2BIngbxy0qeEPFNnqDQqGmS2mDMgPQkdRXmf/Ccf8FC/wDo1/4M/wDh%2BNW/%2BZemJ4v/AOCgUUrTx/sr/BZXcfM6/HXVQT9T/wAItW%2BGo57Trr29enOHW1OUZfJqpKP3oaVRPVr7v%2BCeh%2BPfG2peHZILHw/p8d1cGaA3fmhtkMMkojBOP4mJIUe3PFQfEHXIbW4awt/ClhqckFhJe3ov8BUgTIwvyNlzg4BwOOSK8n8XaX%2B2x41mivNb/ZD%2BCD3Mc0T/AGv/AIXhqnmssbhghY%2BFs7TjBHoTioPEsH/BRfxARJF8A/g3byTWMljfyL8bdUYz2znO1f8AimAEYAkBucbjwa87G0uIubEum7qTjycrV0kpXVpqybfI225JrmtayTicZyTT1X9dzv7zS/hPrWrRxXHwP8PXVg1xb29ze3Wm25dJZkDIAhjIZRuUMdwIJ4B5NUtH%2BFP7OHi3VIrOb9nvw3bwX0Usul3a6PbKLtI2AchUUFPvA89Qa8k%2BL3xJ/by%2BC9haeONb/Zr%2BEUui33jfw7p/9mWXxr1Rpvtt/qFnpNs3mN4bVRCs1zDLINpbCOVzwh6nwva/8FDvD13pss/7O/wXuIdHsJrTTol%2BN2roypIyEl2/4Rk7mAjUZAXue/HLSwueSxUfbU4uHNreNK1r2dtLqHLrH7XPo9DllgcLUfv0oP1jD/5E9El/ZC/Zplbf/wAKd0hD6wxtH/6Cwpv/AAyD%2BzsP9V8PPL/646tdp/6DKK4vxdd/8FEPFkUEcPwM%2BGOkmBmO/SP2gdUjMmccNu8KNkDHH1NYf/COf8FJo/8AUeC/BA/66ftAXrfz8H16GKpTo13Gll0akf5lKjG//bskmrbbkSynLL6YaH/gMV%2BiPUP%2BGRfgEPueFNQT/rn4o1Ff5XFH/DI3wJ7eH9YH08Yap/8AJNeX/wBjf8FOl/1fhD4ej/e%2BOd23/uoVy/xt%2BIX/AAUm%2BA/wY8XfHHxT4E8B3Wl%2BDPDF/rupWth8abhria3tLaS4kSMP4TVS5WMhQzKMkZIHNc/NX/6FT/8AA6H/AMkif7Ky3/oGj90T3j/hkb4Ed/Durn6%2BL9UP/tzR/wAMifADo/g%2B9f8A66eJdQb%2Bc9eX/wBlf8FQz97wn8Ofw%2BNt0P8A3UaP7E/4KbN/rfB/w/P%2B58dbtf8A3UKOau9sqf8A4HQ/%2BSYf2Vlv/QNH7onqH/DIH7OTf634aQy/9d9QuZP/AEKU1Lb/ALJH7NNqcx/BjQ2P/TW13/8AoRNeVf8ACM/8FIX5n8EeCm9k/aFvk/l4Qo/4RH/goW/%2Bv%2BGvg1/%2B7ldWT/0DwoKF9c6ZVH51KH/yDGsqy1bYWH/gMP8A5Fns1n%2Bzl%2Bz9YYNt8EfCgI6M3h%2B3Y/mUJrXsfhh8NNLx/Znw80K3x08jSIUx%2BS14F/wg37dcn/H78EPAtz6if9qDxB/TwyK5f4I3v7Tfx7%2BDHhD45aD%2Bx38NBpvjPwvp%2Bu6db6z%2B0nr7TxW93bR3EaSqvh5kDhZAGClhkHBI5raMs5X8PAUo%2BtWP/tlBm8MJh6fwUYL0UV%2BUD66RNK0eHai29rGOwCov9KoXvxA8B6bn%2B0fG2kW%2BOvn6lEmPzavn%2BD4bftRwP5g/Ya%2BBEjetx8dNXlP/AI/4YNadlo37X%2BnYNh%2Bw5%2Bz7CR3j%2BMeoA/n/AMIrWynxPLanQh6zqy/KEDpXtErJJfeerXnx6%2BDVk2yT4kaVIewt7kSk/TZnNQH4%2BeALjjRota1Juy6f4eu5M/Q%2BWAfzrh7PxN%2B3zp67bD9k/wCCUA9Ifjnqq/y8LVP/AMJx/wAFC/8Ao1/4M/8Ah%2BNW/wDmXo%2Br8S1PixFKP%2BGlKX4zqr8UFqvdfd/wTsf%2BFua1efJonwZ8WTsehurWG1U/jLKCPyo/4Sz426h8mn/COwss9JNU8RqcfVYY3/nXk3gH9o79u34ieK/G/hDR/wBlD4SQ3HgPxRFoWqyXPx11QJPPJpWn6mHi2%2BGCSnk6jCpLBTvRxjADN1H/AAnH/BQv/o1/4M/%2BH41b/wCZej%2ByszqfxcfU/wC3IUof%2B2Tf4hySe8vyOx/s/wDaB1L5LrxL4W0pT3s9NnunH4ySID%2BVa/hHw14w0a7lu/FPxEuNZ8yPakDadDbxxHOdwCDcT25Y15v/AMJx/wAFC/8Ao1/4M/8Ah%2BNW/wDmXo/4Tj/goX/0a/8ABn/w/Grf/MvW%2BHyXD0K0a0qtWcltz1Ztf%2BArlg/nFjUEne7%2B873xv8MY/F92%2BpQ%2BJdRs52FvhILjbF%2B5kLoSFAbILNjDDBOai%2BIHhL%2B0dPe6N/P9smje0VLXaguYGJJgkDB8qF3EsMN94gjJrz698U/8FEbu5t54/wBnL4QQLA5Z4ofjxqm2b2bPhUnH0x1rlh8dP22/GXxj1z4E3P7JPwlbUvDXhrSNfubl/jzqy27wajcanbQohXwzuLq2mTlwVC4kjwWJYL5uZ5IsXhcZDD0VCpUslJz0k7fEkublceaSV46vWzi2ntThQjUjKeq6rX/NfhY9r1XwpYXrad4w0LSplu2aF5Dauu4oY9obbIfLLhSFDkbgvANQXP8AZJupNStXayc2UshkGI3e5hkw5k2YEjducjHTrXnmn6l%2B37p2lJo1v%2BzN8IFgRNqrF8fdXjI5JyCnhYEHnHWp49d/b0itEsf%2BGTvgo8Ub70WX47as%2BGzndlvC5JOe/WvEr8L5njlzvkpynGDmrtx9rGKTceTllFNuUpSTTk4w00Z2U6%2BGov3VezdtEnZ9731tp6XPQYhINVRpLYpqMuqRTxuIjl7dkXeC2PuqN4wT1UV02qWd1f2D2lpqctpI2MXEKqWUZ5xuBHI4/GvIv%2BE4/wCChQ6fsvfBn/w/Grf/ADL0f8Jx/wAFC/8Ao1/4M/8Ah%2BNW/wDmXr6LKuHqeXYevRnUc41d7Xg9pXbcZJ875neacW7R6xu8auJdSUZJWt8/z6aba9SH9pG0ax%2BMX7Nto93NcGP4yXwM07Au/wDxRXijkkADP4V7ZXyv8T/Ev7Vur/tJ/s6Wvxr%2BC/w98P6OPi5qLR33hb4nX2sXJn/4QvxNtQwT6LZKEILEv5pIIA2HJK/VFe9SpQo0o04Kyiklu9ErLVtt%2Brbfdt6nO25O7CiiitBBRRRQAUUUUAFFFFABVHxR4hsPCXhrUfFeqhza6ZYzXdyIly3lxoXbA7nCmr1R3dpa39rLY3tuk0M0bRzRSqGV1IwVIPBBHGKAPm/9jX9qX4%2BfFTxho3hX4/6b4SR/G/wn074geF18J6fc2/8AZdvcShJ9MumnuJhdSQia023cYgWUvL%2B4i2Dd5XYf8FHvjL8OvhgfjT4l%2BH/gy68N%2BO/hf4r8dfDPQNC064sbmylsb20FvaalcPPKly94upwzyTxQweS6TKUm3K9e8/AD9hfwh%2Bzpqtvq/hP4y%2BOtTl07RdO0DQxr9zp1wNK8P2TyvBo0JWyQm3zL880he8kEUW%2B5by1xjaT/AMEzvgNbWniDw94k8VeLdf8AD2reEtc8MaH4Y1bUbZbTwtpOr3CXF/a6c1vbxToHkhtyjzyzyQrbRJE8artIB037Mnxc%2BMfiPx94/wDgX8f7vwzqHibwLdaZMuueENHuNOsdQsb%2B082Jvs1xc3LwypLFcxMPOcMsccg2bzGnsVed/AD9nPSvgMfEOsXHxI8TeNPEXivUYbvxB4s8YSWZvrvyLaO2gi22VtbW8cUcUYCrHEuWeR23PI7N6JQAV8u/Ab9sb42/ED4xeFpPG2meFl8B/EzWvF2meCrPS9NuYtV0uTRbuWKGS8uHuXiulu7e2uZiscMBt28uPM%2BTIPqKvDPB37BngbwF8SZviN4X%2BLvjeAW11rN14U0J59OlsPC0%2BrXq3mpS2KPZF2aeUOP9JecQpNLHAIVfFAFPXPip8cfh5%2B2p4R%2BGetaj4B13SviI2poukaH4XurbXdB0ewtZp4tRu717yWO6txdPFalBbwBZtUj2M2H3ZH/BOH9qf4u/tH%2BBfO/aL8T6JZeO/wDhGdI1XWfh5b/CfW/Cl94ca6jlMiyLq93M%2BowGVHijuoEjiLW0vLk4TrfA37Gn/CA/tKeLP2l9O/aU%2BIV3e%2BNJ1Os%2BHtSi0OaxW3it3htbKGX%2BzBewWtuZHmjhS5C%2Bc8kj7zLL5mx8G/2X7b4W/EXVPi/4t%2BNPjL4g%2BKdS0S30ZNb8ZHTY3s9PhlkmFvDFptlaQKGllZ3do2kYhAX2oqgA9RooooA%2BXf2mv2xvjb8K/in4xf4eaZ4Wbwb8JtF8N6n47ttZ025m1HWI9UvriKaOxmjuY47Rra1t/PDSRXAnklEWIQpkM37ZH7SvxM%2BBX7Qvg6zttX8PeEvA0nhHUrzxL8RfEfwi1nxFbabIt7YItpLe2F3bwaRDJG0srz3beV/oyk8JXbfGf9iH4cfG74pH4ma5458VaXFqNrpFr4v8NaNdWqad4pg0u9kvbGK%2BWW3kmCxzTS5%2BzywGWOQxTGWMKgn%2BOn7JN1%2B0J4Jl%2BGPjz9pb4hxeGNU0e40nxdoOmLosMXiSynLiaG5l/s0zwhonaAtaSW7eWeu/56APPNS/bG%2BNtr%2B0BdywaZ4W/wCFY6f8ZrP4aXNg%2Bm3J1uW8uNNgnGprdfafIWJby5itvsptyxjV5/PBxDX1FXi9x%2Bw78NZ/j3/wvAeNvFMdo/imHxRP4DjubQaHNr0WnLp0Wpsn2b7T5q2yRgRC4Fv5kSTGEyjzK9ooAK%2Bev2vP2if2gPAfxAg%2BF37OFr4RXU9P%2BGuu%2BN9ZuPGWm3N1DdQWElrFDpsIt7iAwSXD3EmbpjKsAhH7iYyYX6FryP8AaX/Y88H/ALTOoWWtaj8SfF/hHULfw/qfh%2B%2B1HwbeWsM2paLqHkG80%2BY3NtOFjka2hYSxCO4iKExTR733AHNftOfHfxlB%2BxX/AMNdfC/xZ4T0PRtN8FjxleWfjXwHca811Clql7bQQRW%2BpWRjufMCBDmQmTYFUNg1w17%2B1j%2B1b8Pvjr4D%2BGn7Q2ueD/BGkXfw%2B8IXni3Xf%2BFQ69qOl6j4l1C9vbbUdKt9Wiv1s9ICtBaJB9sMzF72P/W8IfcfHn7MPgv4j/DSy%2BD/AIn8Say3hzTvFGk6vaaVai0hjWHTby3u7XTCEtxushJaxBkbMjoCjSFWIqp8dP2WoP2gtctk8bfG/wAa2/hJZrGbU/h7ph0yPStVktblbmMzytZNfANIke9IrqNHWMKVwzhwD1SiiigDxf8A4KC/F344fs/fsj%2BNPj18Ar3wpHrHgnQrvXLqDxhotzfW13aWttLM9uiW11bMkrsiKJC5VAWJR%2BBV39sH4n%2BLvAng7w14F%2BHumaDca98R/GVr4U02XxVpsl7plqs8M9xczXNtHLC1yi2lrc4hEsfmOUUuoJI1P2sf2cbL9rT4Ea9%2Bz7rXxV8U%2BEdJ8T2Utjrl/wCEF077Xc2UsTxTW26/tLqNEdX5ZEWQFRtdec53jf8AZWk%2BJXw6s/BHjz9oLx1qOp6TqenapoHjExaPBqek6lZklbyEQaclszyBnWRJYJIWSR08sKxUgHgkn7d37VvjLQ/%2BEM%2BGejeALbxt4T0Lx1qXji51nSL2bTdSfw5rA0qO2so47tJLQXzbpxNJJcfZFAQx3JO4fW3wv8e6Z8VPhp4d%2BJ%2BiW0sNl4k0K01S0hnxvSK4hSVFbHcBwD714h4h/wCCaXwn1jwLpPg/Rvi58QNBvLPTfEOna74n0XUrFdS8SWmu3a3usRXry2bxg3N0om8y2jglgbIt3gUlT9BaHomkeGdEs/Dfh/T4rSw0%2B1jtrK0gXakMMahURR2AUAAegoAtVzXxik%2BJsPwy1if4Oa1oOneJYrXfpl74m0qa%2BsYirAuZYIJ7eSUeWHwqyx/MVy2M10tYXxM8Hap8QfAep%2BC9G%2BIOs%2BFbjUbfyU8QeH4bOS8swSCzRLe29xbkkAqfMhcYY4AOCADgvgJ8UfjB%2B0N%2BxH8P/jX4fufDWj%2BNfHHw40TXGlvNKuLjS7O8vLKC4lP2ZbhJpIlMj7Y/PViAoMnVq8Avf2zP2otB%2BDmnr4D0jwrdQaP8c7vwJqHjzwd8Gtd1/R5NCs9Eurl9RtNE029a6jWLUYU0lyLmWJJYJWztKhfYvCX7DU/gz9ktP2PNJ/a3%2BK66Da%2BCE8K6Vr8M%2BiW2sabYxokUTwXFtpcarMkCCFZShO0lzmXEo0fB/wCyN4m%2BHvwQ0n4G%2BAf2vPiNolroVwi6Tq%2Bl6J4VhuLWwS3WCPTUhXRPsa2ybQ6kW/nBjjzdmEAB6F8HfG%2Bm/Er4T%2BGviBpHjjSPE1vrOh2t2niHw/aNb2OpF4lY3EETyytDG5JZY2kkZAQrOxBJ6SuX%2BCvwh8G/AP4U6D8HPh/FcrpHh7T0tLNr65aaeUDJaWWRuXkdizs3dmJwOldRQAV4v%2Bxz8Xfjh8Srr4peDvj9e%2BFLvWfh/wDExvD1tfeD9FubC1uLVtG0rUkLRXN1cuZFbUHjLhwriNWCJkivaK8X%2BBP7HmsfAnxp4v8AGtp%2B1l8SvEcnjjxXD4g16x8Q2nh0QPdpa29mQn2TSIHSN7e0tomAfOIQylXZ2YA8M8Eft/8AxV8G/Df4xfET4vQeGrbxd4a0vxBrGifDBvhRrXhm%2Bv47K/fT7K8bUr%2B6ki1a3kjXT1kubWHZF9pi5A2Ifef2ZPi58Y/Efj7x/wDAv4/3fhnUPE3gW60yZdc8IaPcadY6hY39p5sTfZri5uXhlSWK5iYec4ZY45Bs3mNMzXP2CPA3xE1XxBqvx6%2BMHjn4hnXPBOr%2BErSDxJPp1smi6TqckD3sNp/ZtlanzHNpaYnmMsyfZk2upLlux%2BAH7OelfAY%2BIdYuPiR4m8aeIvFeow3fiDxZ4wkszfXfkW0dtBFtsra2t44o4owFWOJcs8jtueR2YA9EooooA8X%2BCvxd%2BOGtftcfFn4C/FS98KXWj%2BGNC8Pa54Qn8P6Lc2tzFaalc6zD9nvHmupluJUXTIm8yNIFzK42HANc/wCJPiJ%2B0t4V/b88F/CDTPFXw51Xw54u0jWNY8Q2cHw%2BvLfWdL0HTkSK336j/arxSyHUNRt1VWtFVka6KqpUmug0X9jzWNA/aL8YftJad%2B1l8ShqHjPSrLTL3QntPDp0%2BztLOe6mtIoB/ZHnjyje3ShpJpGZZjvLlUK9ppfwL8K6X8cPEv7QKatqc2v%2BJPDGm6A3nzRmHTrKylu5kW2URgozy3sryMxfeUiHAjUAA8d/4Jw/tT/F39o/wL537RfifRLLx3/wjOkarrPw8t/hPrfhS%2B8ONdRymRZF1e7mfUYDKjxR3UCRxFraXlycJ9LV5d8G/wBl%2B2%2BFvxF1T4v%2BLfjT4y%2BIPinUtEt9GTW/GR02N7PT4ZZJhbwxabZWkChpZWd3aNpGIQF9qKo9RoAK8H/a1%2BM37QXwG8SeF/F3gzxB4IvfD2teLtC8O23gW%2B8OXkmua5c3t8sNy1pex3qxQmC1aS62NaTDy7SZneNAXj94rxn4k/scr8RP2ndE/amt/wBo74gaFqvh/QxpWmaBpkOiXGlwQPN5ty0aX2mXE0MtyBHHNLFKjtHDGisgHIBwv7bH7UPxm%2BFvjLxBZ/Brw54Ouk%2BE/wAKbr4leJh4s0qe5m1GFWuoYtPsJIriEWM8sNrqCm7cTqm6NfJdXcirH%2B2z8YtQ%2BNZ17StO8Ln4VxfF6w%2BHT2Mul3P9uS3N3plvcLqi3P2nyUiW8uorY2ptyxjV5vPBxDXcfHT9hHwV%2B0G0U3jb4weOLaa78L3fhjxfPpFxp0DeK9CuZhLJpl8PsRVYvvoslsLedEmlCyjzHJtT/sOfDSb49f8AC718a%2BKIrRvFMPiifwFFc2g0ObXodOXTotTZPs32kSrbJGBELgW/mRJMYTKPMoA9oooooAKKKKACiiigAooooAKKKKACiiigAooooAKKKKACiiigAooooAKKKKACiiigAooooAKKKKACiiigAooooAKKKKACiiigAooooAKKKKACiiigAooooAKKKKACiiigAooooAKKKKACiiigAooooAKKKKAP/9k%3D\">"
      ]
     },
     "metadata": {},
     "output_type": "display_data"
    }
   ],
   "source": [
    "try:\n",
    "    display_html(HTML(anim.to_html5_video()))\n",
    "# In case the build-in renderers are unaviable, fall back to\n",
    "# a custom one, that doesn't require external libraries\n",
    "except RuntimeError:\n",
    "    anim.save(None, writer=matplotlib_utils.SimpleMovieWriter(0.001))"
   ]
  },
  {
   "cell_type": "markdown",
   "metadata": {},
   "source": [
    "# Logistic regression\n",
    "Your assignment is to implement the logistic regression\n",
    "\n",
    "Plan:\n",
    "* Use a shared variable for weights\n",
    "* Use a matrix placeholder for `X`\n",
    " \n",
    "We shall train on a two-class MNIST dataset\n",
    "* please note that target `y` are `{0,1}` and not `{-1,1}` as in some formulae"
   ]
  },
  {
   "cell_type": "code",
   "execution_count": 30,
   "metadata": {},
   "outputs": [
    {
     "name": "stdout",
     "output_type": "stream",
     "text": [
      "y [shape - (360,)]: [0 1 0 1 0 1 0 0 1 1]\n",
      "X [shape - (360, 64)]:\n"
     ]
    }
   ],
   "source": [
    "from sklearn.datasets import load_digits\n",
    "mnist = load_digits(2)\n",
    "\n",
    "X, y = mnist.data, mnist.target\n",
    "\n",
    "print(\"y [shape - %s]:\" % (str(y.shape)), y[:10])\n",
    "print(\"X [shape - %s]:\" % (str(X.shape)))"
   ]
  },
  {
   "cell_type": "code",
   "execution_count": 31,
   "metadata": {},
   "outputs": [
    {
     "name": "stdout",
     "output_type": "stream",
     "text": [
      "X:\n",
      " [[  0.   0.   5.  13.   9.   1.   0.   0.   0.   0.]\n",
      " [  0.   0.   0.  12.  13.   5.   0.   0.   0.   0.]\n",
      " [  0.   0.   1.   9.  15.  11.   0.   0.   0.   0.]]\n",
      "y:\n",
      " [0 1 0 1 0 1 0 0 1 1]\n"
     ]
    },
    {
     "data": {
      "image/png": "[encoded data removed]",
      "text/plain": [
       "<matplotlib.figure.Figure at 0x7f1f95537e48>"
      ]
     },
     "metadata": {},
     "output_type": "display_data"
    }
   ],
   "source": [
    "print('X:\\n',X[:3,:10])\n",
    "print('y:\\n',y[:10])\n",
    "plt.imshow(X[0].reshape([8,8]));"
   ]
  },
  {
   "cell_type": "markdown",
   "metadata": {},
   "source": [
    "It's your turn now!\n",
    "Just a small reminder of the relevant math:\n",
    "\n",
    "$$\n",
    "P(y=1|X) = \\sigma(X \\cdot W + b)\n",
    "$$\n",
    "$$\n",
    "\\text{loss} = -\\log\\left(P\\left(y_\\text{predicted} = 1\\right)\\right)\\cdot y_\\text{true} - \\log\\left(1 - P\\left(y_\\text{predicted} = 1\\right)\\right)\\cdot\\left(1 - y_\\text{true}\\right)\n",
    "$$\n",
    "\n",
    "$\\sigma(x)$ is available via `tf.nn.sigmoid` and matrix multiplication via `tf.matmul`"
   ]
  },
  {
   "cell_type": "code",
   "execution_count": 42,
   "metadata": {
    "collapsed": true
   },
   "outputs": [],
   "source": [
    "from sklearn.model_selection import train_test_split\n",
    "X_train, X_test, y_train, y_test = train_test_split(\n",
    "    X, y, random_state=42)"
   ]
  },
  {
   "cell_type": "markdown",
   "metadata": {},
   "source": [
    "__Your code goes here.__ For the training and testing scaffolding to work, please stick to the names in comments."
   ]
  },
  {
   "cell_type": "code",
   "execution_count": 43,
   "metadata": {},
   "outputs": [],
   "source": [
    "# Model parameters - weights and bias\n",
    "# weights = tf.Variable(...) shape should be (X.shape[1], 1)\n",
    "# b = tf.Variable(...)\n",
    "weights = tf.Variable(tf.random_normal(shape=(X.shape[1],1), stddev = 0.01, dtype = tf.float32))\n",
    "b = tf.Variable(0.0, dtype = tf.float32)\n",
    "s.run(tf.global_variables_initializer())"
   ]
  },
  {
   "cell_type": "code",
   "execution_count": 44,
   "metadata": {
    "collapsed": true
   },
   "outputs": [],
   "source": [
    "# Placeholders for the input data\n",
    "input_X = tf.placeholder(tf.float32, (None, None))\n",
    "input_y = tf.placeholder(tf.float32, (None, ))"
   ]
  },
  {
   "cell_type": "code",
   "execution_count": 47,
   "metadata": {},
   "outputs": [],
   "source": [
    "# The model code\n",
    "\n",
    "# Compute a vector of predictions, resulting shape should be [input_X.shape[0],]\n",
    "# This is 1D, if you have extra dimensions, you can  get rid of them with tf.squeeze .\n",
    "# Don't forget the sigmoid.\n",
    "# predicted_y = <predicted probabilities for input_X>\n",
    "predicted_y = tf.squeeze(tf.nn.sigmoid(tf.matmul(input_X, weights)+b))\n",
    "\n",
    "# Loss. Should be a scalar number - average loss over all the objects\n",
    "# tf.reduce_mean is your friend here\n",
    "# loss = <logistic loss (scalar, mean over sample)>\n",
    "loss = - tf.reduce_mean(input_y * tf.log(predicted_y) + (1-input_y) * tf.log(1-predicted_y))\n",
    "\n",
    "# See above for an example. tf.train.*Optimizer\n",
    "# optimizer = <optimizer that minimizes loss>\n",
    "optimizer = tf.train.AdamOptimizer(0.01).minimize(loss)"
   ]
  },
  {
   "cell_type": "markdown",
   "metadata": {},
   "source": [
    "A test to help with the debugging"
   ]
  },
  {
   "cell_type": "code",
   "execution_count": 48,
   "metadata": {},
   "outputs": [],
   "source": [
    "validation_weights = 1e-3 * np.fromiter(map(lambda x:\n",
    "        s.run(weird_psychotic_function, {my_scalar:x, my_vector:[1, 0.1, 2]}),\n",
    "                                   0.15 * np.arange(1, X.shape[1] + 1)),\n",
    "                                   count=X.shape[1], dtype=np.float32)[:, np.newaxis]\n",
    "# Compute predictions for given weights and bias\n",
    "prediction_validation = s.run(\n",
    "    predicted_y, {\n",
    "    input_X: X,\n",
    "    weights: validation_weights,\n",
    "    b: 1e-1})\n",
    "\n",
    "# Load the reference values for the predictions\n",
    "validation_true_values = np.loadtxt(\"validation_predictons.txt\")\n",
    "\n",
    "assert prediction_validation.shape == (X.shape[0],),\\\n",
    "       \"Predictions must be a 1D array with length equal to the number \" \\\n",
    "       \"of examples in input_X\"\n",
    "assert np.allclose(validation_true_values, prediction_validation)\n",
    "loss_validation = s.run(\n",
    "        loss, {\n",
    "            input_X: X[:100],\n",
    "            input_y: y[-100:],\n",
    "            weights: validation_weights+1.21e-3,\n",
    "            b: -1e-1})\n",
    "assert np.allclose(loss_validation, 0.728689)"
   ]
  },
  {
   "cell_type": "code",
   "execution_count": 49,
   "metadata": {},
   "outputs": [
    {
     "name": "stdout",
     "output_type": "stream",
     "text": [
      "loss at iter 0:0.2813\n",
      "train auc: 1.0\n",
      "test auc: 1.0\n",
      "loss at iter 1:0.1338\n",
      "train auc: 1.0\n",
      "test auc: 1.0\n",
      "loss at iter 2:0.0734\n",
      "train auc: 1.0\n",
      "test auc: 1.0\n",
      "loss at iter 3:0.0459\n",
      "train auc: 1.0\n",
      "test auc: 1.0\n",
      "loss at iter 4:0.0319\n",
      "train auc: 1.0\n",
      "test auc: 1.0\n"
     ]
    }
   ],
   "source": [
    "from sklearn.metrics import roc_auc_score\n",
    "s.run(tf.global_variables_initializer())\n",
    "for i in range(5):\n",
    "    s.run(optimizer, {input_X: X_train, input_y: y_train})\n",
    "    loss_i = s.run(loss, {input_X: X_train, input_y: y_train})\n",
    "    print(\"loss at iter %i:%.4f\" % (i, loss_i))\n",
    "    print(\"train auc:\", roc_auc_score(y_train, s.run(predicted_y, {input_X:X_train})))\n",
    "    print(\"test auc:\", roc_auc_score(y_test, s.run(predicted_y, {input_X:X_test})))"
   ]
  },
  {
   "cell_type": "markdown",
   "metadata": {},
   "source": [
    "### Coursera submission"
   ]
  },
  {
   "cell_type": "code",
   "execution_count": 50,
   "metadata": {
    "collapsed": true
   },
   "outputs": [],
   "source": [
    "grade_submitter = grading.Grader(\"BJCiiY8sEeeCnhKCj4fcOA\")"
   ]
  },
  {
   "cell_type": "code",
   "execution_count": 51,
   "metadata": {
    "collapsed": true
   },
   "outputs": [],
   "source": [
    "test_weights = 1e-3 * np.fromiter(map(lambda x:\n",
    "    s.run(weird_psychotic_function, {my_scalar:x, my_vector:[1, 2, 3]}),\n",
    "                               0.1 * np.arange(1, X.shape[1] + 1)),\n",
    "                               count=X.shape[1], dtype=np.float32)[:, np.newaxis]"
   ]
  },
  {
   "cell_type": "markdown",
   "metadata": {},
   "source": [
    "First, test prediction and loss computation. This part doesn't require a fitted model."
   ]
  },
  {
   "cell_type": "code",
   "execution_count": 52,
   "metadata": {
    "collapsed": true
   },
   "outputs": [],
   "source": [
    "prediction_test = s.run(\n",
    "    predicted_y, {\n",
    "    input_X: X,\n",
    "    weights: test_weights,\n",
    "    b: 1e-1})"
   ]
  },
  {
   "cell_type": "code",
   "execution_count": 53,
   "metadata": {
    "collapsed": true
   },
   "outputs": [],
   "source": [
    "assert prediction_test.shape == (X.shape[0],),\\\n",
    "       \"Predictions must be a 1D array with length equal to the number \" \\\n",
    "       \"of examples in X_test\""
   ]
  },
  {
   "cell_type": "code",
   "execution_count": 54,
   "metadata": {
    "collapsed": true
   },
   "outputs": [],
   "source": [
    "grade_submitter.set_answer(\"0ENlN\", prediction_test)"
   ]
  },
  {
   "cell_type": "code",
   "execution_count": 55,
   "metadata": {
    "collapsed": true
   },
   "outputs": [],
   "source": [
    "loss_test = s.run(\n",
    "    loss, {\n",
    "        input_X: X[:100],\n",
    "        input_y: y[-100:],\n",
    "        weights: test_weights+1.21e-3,\n",
    "        b: -1e-1})\n",
    "# Yes, the X/y indices mistmach is intentional"
   ]
  },
  {
   "cell_type": "code",
   "execution_count": 56,
   "metadata": {
    "collapsed": true
   },
   "outputs": [],
   "source": [
    "grade_submitter.set_answer(\"mMVpM\", loss_test)"
   ]
  },
  {
   "cell_type": "code",
   "execution_count": 57,
   "metadata": {
    "collapsed": true
   },
   "outputs": [],
   "source": [
    "grade_submitter.set_answer(\"D16Rc\", roc_auc_score(y_test, s.run(predicted_y, {input_X:X_test})))"
   ]
  },
  {
   "cell_type": "markdown",
   "metadata": {},
   "source": [
    "Please use the credentials obtained from the Coursera assignment page."
   ]
  },
  {
   "cell_type": "code",
   "execution_count": 58,
   "metadata": {},
   "outputs": [
    {
     "name": "stdout",
     "output_type": "stream",
     "text": [
      "Submitted to Coursera platform. See results on assignment page!\n"
     ]
    }
   ],
   "source": [
    "grade_submitter.submit(\"liuyang21cn@yahoo.com\", \"7A7wc6YcNtPKwVeB\")"
   ]
  },
  {
   "cell_type": "code",
   "execution_count": null,
   "metadata": {
    "collapsed": true
   },
   "outputs": [],
   "source": []
  }
 ],
 "metadata": {
  "kernelspec": {
   "display_name": "Python 3",
   "language": "python",
   "name": "python3"
  },
  "language_info": {
   "codemirror_mode": {
    "name": "ipython",
    "version": 3
   },
   "file_extension": ".py",
   "mimetype": "text/x-python",
   "name": "python",
   "nbconvert_exporter": "python",
   "pygments_lexer": "ipython3",
   "version": "3.6.0"
  }
 },
 "nbformat": 4,
 "nbformat_minor": 1
}
